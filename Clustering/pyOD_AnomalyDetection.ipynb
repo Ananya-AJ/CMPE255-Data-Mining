{
  "nbformat": 4,
  "nbformat_minor": 0,
  "metadata": {
    "colab": {
      "provenance": [],
      "mount_file_id": "1_D2nfUQ-gKoy2rvKqd2YuZPb3p190vhC",
      "authorship_tag": "ABX9TyMSrqT8rUAsOx8I3aq/el4W",
      "include_colab_link": true
    },
    "kernelspec": {
      "name": "python3",
      "display_name": "Python 3"
    },
    "language_info": {
      "name": "python"
    }
  },
  "cells": [
    {
      "cell_type": "markdown",
      "metadata": {
        "id": "view-in-github",
        "colab_type": "text"
      },
      "source": [
        "<a href=\"https://colab.research.google.com/github/Ananya-AJ/CMPE255-Data-Mining/blob/main/Clustering/pyOD_AnomalyDetection.ipynb\" target=\"_parent\"><img src=\"https://colab.research.google.com/assets/colab-badge.svg\" alt=\"Open In Colab\"/></a>"
      ]
    },
    {
      "cell_type": "code",
      "source": [
        "from google.colab import drive\n",
        "drive.mount('/content/drive/')"
      ],
      "metadata": {
        "colab": {
          "base_uri": "https://localhost:8080/"
        },
        "id": "6doD2Oj5x1SK",
        "outputId": "cce5bcb9-6096-4a9f-f2f3-72ab1f63265a"
      },
      "execution_count": 15,
      "outputs": [
        {
          "output_type": "stream",
          "name": "stdout",
          "text": [
            "Mounted at /content/drive/\n"
          ]
        }
      ]
    },
    {
      "cell_type": "code",
      "source": [
        "!pip install combo"
      ],
      "metadata": {
        "colab": {
          "base_uri": "https://localhost:8080/"
        },
        "id": "8WKmkwkHza8F",
        "outputId": "1d9280cd-e144-403c-cd19-59e03e3eb7d3"
      },
      "execution_count": 5,
      "outputs": [
        {
          "output_type": "stream",
          "name": "stdout",
          "text": [
            "Looking in indexes: https://pypi.org/simple, https://us-python.pkg.dev/colab-wheels/public/simple/\n",
            "Collecting combo\n",
            "  Downloading combo-0.1.3.tar.gz (38 kB)\n",
            "Requirement already satisfied: joblib in /usr/local/lib/python3.8/dist-packages (from combo) (1.2.0)\n",
            "Requirement already satisfied: matplotlib in /usr/local/lib/python3.8/dist-packages (from combo) (3.2.2)\n",
            "Requirement already satisfied: numpy>=1.13 in /usr/local/lib/python3.8/dist-packages (from combo) (1.21.6)\n",
            "Requirement already satisfied: numba>=0.35 in /usr/local/lib/python3.8/dist-packages (from combo) (0.56.4)\n",
            "Requirement already satisfied: pyod in /usr/local/lib/python3.8/dist-packages (from combo) (1.0.6)\n",
            "Requirement already satisfied: scipy in /usr/local/lib/python3.8/dist-packages (from combo) (1.7.3)\n",
            "Requirement already satisfied: scikit_learn>=0.20 in /usr/local/lib/python3.8/dist-packages (from combo) (1.0.2)\n",
            "Requirement already satisfied: importlib-metadata in /usr/local/lib/python3.8/dist-packages (from numba>=0.35->combo) (4.13.0)\n",
            "Requirement already satisfied: setuptools in /usr/local/lib/python3.8/dist-packages (from numba>=0.35->combo) (57.4.0)\n",
            "Requirement already satisfied: llvmlite<0.40,>=0.39.0dev0 in /usr/local/lib/python3.8/dist-packages (from numba>=0.35->combo) (0.39.1)\n",
            "Requirement already satisfied: threadpoolctl>=2.0.0 in /usr/local/lib/python3.8/dist-packages (from scikit_learn>=0.20->combo) (3.1.0)\n",
            "Requirement already satisfied: zipp>=0.5 in /usr/local/lib/python3.8/dist-packages (from importlib-metadata->numba>=0.35->combo) (3.11.0)\n",
            "Requirement already satisfied: pyparsing!=2.0.4,!=2.1.2,!=2.1.6,>=2.0.1 in /usr/local/lib/python3.8/dist-packages (from matplotlib->combo) (3.0.9)\n",
            "Requirement already satisfied: kiwisolver>=1.0.1 in /usr/local/lib/python3.8/dist-packages (from matplotlib->combo) (1.4.4)\n",
            "Requirement already satisfied: python-dateutil>=2.1 in /usr/local/lib/python3.8/dist-packages (from matplotlib->combo) (2.8.2)\n",
            "Requirement already satisfied: cycler>=0.10 in /usr/local/lib/python3.8/dist-packages (from matplotlib->combo) (0.11.0)\n",
            "Requirement already satisfied: six>=1.5 in /usr/local/lib/python3.8/dist-packages (from python-dateutil>=2.1->matplotlib->combo) (1.15.0)\n",
            "Requirement already satisfied: statsmodels in /usr/local/lib/python3.8/dist-packages (from pyod->combo) (0.12.2)\n",
            "Requirement already satisfied: pandas>=0.21 in /usr/local/lib/python3.8/dist-packages (from statsmodels->pyod->combo) (1.3.5)\n",
            "Requirement already satisfied: patsy>=0.5 in /usr/local/lib/python3.8/dist-packages (from statsmodels->pyod->combo) (0.5.3)\n",
            "Requirement already satisfied: pytz>=2017.3 in /usr/local/lib/python3.8/dist-packages (from pandas>=0.21->statsmodels->pyod->combo) (2022.6)\n",
            "Building wheels for collected packages: combo\n",
            "  Building wheel for combo (setup.py) ... \u001b[?25l\u001b[?25hdone\n",
            "  Created wheel for combo: filename=combo-0.1.3-py3-none-any.whl size=42885 sha256=a59f49cad488919b517878129fac90cf7a87cf2afc20152a470dd6a96a32ba3c\n",
            "  Stored in directory: /root/.cache/pip/wheels/ec/44/39/0667fea44a2dfe692cc2a51f0f79ea49b9dee7def53594ef2e\n",
            "Successfully built combo\n",
            "Installing collected packages: combo\n",
            "Successfully installed combo-0.1.3\n"
          ]
        }
      ]
    },
    {
      "cell_type": "code",
      "source": [
        "!pip install --upgrade pyod"
      ],
      "metadata": {
        "colab": {
          "base_uri": "https://localhost:8080/"
        },
        "id": "gO1ShVeYzAfz",
        "outputId": "3f109e13-0d17-43a2-da92-939dd2ad94a4"
      },
      "execution_count": 2,
      "outputs": [
        {
          "output_type": "stream",
          "name": "stdout",
          "text": [
            "Looking in indexes: https://pypi.org/simple, https://us-python.pkg.dev/colab-wheels/public/simple/\n",
            "Collecting pyod\n",
            "  Downloading pyod-1.0.6.tar.gz (141 kB)\n",
            "\u001b[K     |████████████████████████████████| 141 kB 5.2 MB/s \n",
            "\u001b[?25hRequirement already satisfied: joblib in /usr/local/lib/python3.8/dist-packages (from pyod) (1.2.0)\n",
            "Requirement already satisfied: matplotlib in /usr/local/lib/python3.8/dist-packages (from pyod) (3.2.2)\n",
            "Requirement already satisfied: numpy>=1.19 in /usr/local/lib/python3.8/dist-packages (from pyod) (1.21.6)\n",
            "Requirement already satisfied: numba>=0.51 in /usr/local/lib/python3.8/dist-packages (from pyod) (0.56.4)\n",
            "Requirement already satisfied: scipy>=1.5.1 in /usr/local/lib/python3.8/dist-packages (from pyod) (1.7.3)\n",
            "Requirement already satisfied: scikit_learn>=0.20.0 in /usr/local/lib/python3.8/dist-packages (from pyod) (1.0.2)\n",
            "Requirement already satisfied: six in /usr/local/lib/python3.8/dist-packages (from pyod) (1.15.0)\n",
            "Requirement already satisfied: statsmodels in /usr/local/lib/python3.8/dist-packages (from pyod) (0.12.2)\n",
            "Requirement already satisfied: importlib-metadata in /usr/local/lib/python3.8/dist-packages (from numba>=0.51->pyod) (4.13.0)\n",
            "Requirement already satisfied: setuptools in /usr/local/lib/python3.8/dist-packages (from numba>=0.51->pyod) (57.4.0)\n",
            "Requirement already satisfied: llvmlite<0.40,>=0.39.0dev0 in /usr/local/lib/python3.8/dist-packages (from numba>=0.51->pyod) (0.39.1)\n",
            "Requirement already satisfied: threadpoolctl>=2.0.0 in /usr/local/lib/python3.8/dist-packages (from scikit_learn>=0.20.0->pyod) (3.1.0)\n",
            "Requirement already satisfied: zipp>=0.5 in /usr/local/lib/python3.8/dist-packages (from importlib-metadata->numba>=0.51->pyod) (3.11.0)\n",
            "Requirement already satisfied: kiwisolver>=1.0.1 in /usr/local/lib/python3.8/dist-packages (from matplotlib->pyod) (1.4.4)\n",
            "Requirement already satisfied: python-dateutil>=2.1 in /usr/local/lib/python3.8/dist-packages (from matplotlib->pyod) (2.8.2)\n",
            "Requirement already satisfied: cycler>=0.10 in /usr/local/lib/python3.8/dist-packages (from matplotlib->pyod) (0.11.0)\n",
            "Requirement already satisfied: pyparsing!=2.0.4,!=2.1.2,!=2.1.6,>=2.0.1 in /usr/local/lib/python3.8/dist-packages (from matplotlib->pyod) (3.0.9)\n",
            "Requirement already satisfied: pandas>=0.21 in /usr/local/lib/python3.8/dist-packages (from statsmodels->pyod) (1.3.5)\n",
            "Requirement already satisfied: patsy>=0.5 in /usr/local/lib/python3.8/dist-packages (from statsmodels->pyod) (0.5.3)\n",
            "Requirement already satisfied: pytz>=2017.3 in /usr/local/lib/python3.8/dist-packages (from pandas>=0.21->statsmodels->pyod) (2022.6)\n",
            "Building wheels for collected packages: pyod\n",
            "  Building wheel for pyod (setup.py) ... \u001b[?25l\u001b[?25hdone\n",
            "  Created wheel for pyod: filename=pyod-1.0.6-py3-none-any.whl size=175098 sha256=9c8b437f015ea47d5cb43afc4d3b37e65311ca0161bd8574622b3c2446946051\n",
            "  Stored in directory: /root/.cache/pip/wheels/98/93/e6/6d40410d9635ecde42d06041a1ba7f2ee7396e036fcf702e73\n",
            "Successfully built pyod\n",
            "Installing collected packages: pyod\n",
            "Successfully installed pyod-1.0.6\n"
          ]
        }
      ]
    },
    {
      "cell_type": "code",
      "source": [
        "from sklearn.model_selection import train_test_split\n",
        "from scipy.io import loadmat\n",
        "from __future__ import division\n",
        "from __future__ import print_function\n",
        "\n",
        "import os\n",
        "import sys\n",
        "\n",
        "# temporary solution for relative imports in case pyod is not installed\n",
        "# if pyod is installed, no need to use the following line\n",
        "sys.path.append(os.path.abspath(os.path.join(os.path.dirname(\"__file__\"), '..')))\n",
        "\n",
        "from pyod.models.knn import KNN\n",
        "from pyod.models.combination import aom, moa, average, maximization\n",
        "from pyod.utils.utility import standardizer\n",
        "from pyod.utils.data import generate_data\n",
        "from pyod.utils.data import evaluate_print"
      ],
      "metadata": {
        "id": "Bj77T9jMy98G"
      },
      "execution_count": 6,
      "outputs": []
    },
    {
      "cell_type": "code",
      "source": [
        "mat_file='/content/drive/MyDrive/255_drugdata/cardio.mat'\n",
        "mat = loadmat(os.path.join('data', mat_file))"
      ],
      "metadata": {
        "id": "ilIqRp6d1KdY"
      },
      "execution_count": 17,
      "outputs": []
    },
    {
      "cell_type": "code",
      "source": [
        "X = mat['X']\n",
        "y = mat['y'].ravel()"
      ],
      "metadata": {
        "id": "w781w6oMze3X"
      },
      "execution_count": 18,
      "outputs": []
    },
    {
      "cell_type": "code",
      "source": [
        "X_train, X_test, y_train, y_test = train_test_split(X, y, test_size=0.4)\n",
        "\n",
        "# standardizing data for processing\n",
        "X_train_norm, X_test_norm = standardizer(X_train, X_test)"
      ],
      "metadata": {
        "id": "Mhz9JiFZzKAO"
      },
      "execution_count": 19,
      "outputs": []
    },
    {
      "cell_type": "code",
      "source": [
        "print(\"Training data:\", X_train.shape, y_train.shape)\n",
        "print(\"Test data:\", X_test.shape, y_test.shape)"
      ],
      "metadata": {
        "colab": {
          "base_uri": "https://localhost:8080/"
        },
        "id": "EO8XBqTkz5Kd",
        "outputId": "46094ade-f1d1-45e8-bfbf-0db02750dbc6"
      },
      "execution_count": 20,
      "outputs": [
        {
          "output_type": "stream",
          "name": "stdout",
          "text": [
            "Training data: (1098, 21) (1098,)\n",
            "Test data: (733, 21) (733,)\n"
          ]
        }
      ]
    },
    {
      "cell_type": "markdown",
      "source": [
        "# Initialize 20 base detectors for combination"
      ],
      "metadata": {
        "id": "2fMt6Mb70F-1"
      }
    },
    {
      "cell_type": "code",
      "source": [
        "import numpy as np"
      ],
      "metadata": {
        "id": "rPU4FEOc0FZ3"
      },
      "execution_count": 21,
      "outputs": []
    },
    {
      "cell_type": "code",
      "source": [
        "n_clf = 20  # number of base detectors\n",
        "\n",
        "k_list = [10, 20, 30, 40, 50, 60, 70, 80, 90, 100, 110, 120, 130, 140,\n",
        "          150, 160, 170, 180, 190, 200]\n",
        "\n",
        "train_scores = np.zeros([X_train.shape[0], n_clf])\n",
        "test_scores = np.zeros([X_test.shape[0], n_clf])\n",
        "\n",
        "print('Initializing {n_clf} kNN detectors'.format(n_clf=n_clf))\n",
        "\n",
        "for i in range(n_clf):\n",
        "    k = k_list[i]\n",
        "\n",
        "    clf = KNN(n_neighbors=k, method='largest')\n",
        "    clf.fit(X_train_norm)\n",
        "\n",
        "    train_scores[:, i] = clf.decision_scores_\n",
        "    test_scores[:, i] = clf.decision_function(X_test_norm)\n",
        "    print('Base detector %i is fitted for prediction' % i)"
      ],
      "metadata": {
        "colab": {
          "base_uri": "https://localhost:8080/"
        },
        "id": "Qi41Fov4z8Ph",
        "outputId": "56f0c625-2104-4033-a4d8-8192f2c553a7"
      },
      "execution_count": 22,
      "outputs": [
        {
          "output_type": "stream",
          "name": "stdout",
          "text": [
            "Initializing 20 kNN detectors\n",
            "Base detector 0 is fitted for prediction\n",
            "Base detector 1 is fitted for prediction\n",
            "Base detector 2 is fitted for prediction\n",
            "Base detector 3 is fitted for prediction\n",
            "Base detector 4 is fitted for prediction\n",
            "Base detector 5 is fitted for prediction\n",
            "Base detector 6 is fitted for prediction\n",
            "Base detector 7 is fitted for prediction\n",
            "Base detector 8 is fitted for prediction\n",
            "Base detector 9 is fitted for prediction\n",
            "Base detector 10 is fitted for prediction\n",
            "Base detector 11 is fitted for prediction\n",
            "Base detector 12 is fitted for prediction\n",
            "Base detector 13 is fitted for prediction\n",
            "Base detector 14 is fitted for prediction\n",
            "Base detector 15 is fitted for prediction\n",
            "Base detector 16 is fitted for prediction\n",
            "Base detector 17 is fitted for prediction\n",
            "Base detector 18 is fitted for prediction\n",
            "Base detector 19 is fitted for prediction\n"
          ]
        }
      ]
    },
    {
      "cell_type": "markdown",
      "source": [
        "##normalize scores before combination"
      ],
      "metadata": {
        "id": "hXNG2JUF0OYm"
      }
    },
    {
      "cell_type": "code",
      "source": [
        "train_scores_norm, test_scores_norm = standardizer(train_scores,\n",
        "                                                   test_scores)"
      ],
      "metadata": {
        "id": "dYduUb_90J4n"
      },
      "execution_count": 23,
      "outputs": []
    },
    {
      "cell_type": "code",
      "source": [
        "print('Decision score matrix on training data', train_scores_norm.shape)\n",
        "print('Decision score matrix on test data', test_scores_norm.shape)"
      ],
      "metadata": {
        "colab": {
          "base_uri": "https://localhost:8080/"
        },
        "id": "TUglEQQt0Sbx",
        "outputId": "922a2b92-1a90-41a4-87e9-e825f02cd17d"
      },
      "execution_count": 24,
      "outputs": [
        {
          "output_type": "stream",
          "name": "stdout",
          "text": [
            "Decision score matrix on training data (1098, 20)\n",
            "Decision score matrix on test data (733, 20)\n"
          ]
        }
      ]
    },
    {
      "cell_type": "markdown",
      "source": [
        "##combine by average,max,aom,moa and evaluate combination result"
      ],
      "metadata": {
        "id": "CK1lY7fR0WAJ"
      }
    },
    {
      "cell_type": "code",
      "source": [
        "y_by_average = average(test_scores_norm)\n",
        "evaluate_print('Combination by Average', y_test, y_by_average)\n",
        "\n",
        "\n",
        "y_by_maximization = maximization(test_scores_norm)\n",
        "evaluate_print('Combination by Maximization', y_test, y_by_maximization)\n",
        "\n",
        "\n",
        "y_by_aom = aom(test_scores_norm, n_buckets=5)\n",
        "evaluate_print('Combination by AOM', y_test, y_by_aom)\n",
        "\n",
        "y_by_moa = moa(test_scores_norm, n_buckets=5)\n",
        "evaluate_print('Combination by MOA', y_test, y_by_moa)"
      ],
      "metadata": {
        "colab": {
          "base_uri": "https://localhost:8080/"
        },
        "id": "h4c4G0FP0WPT",
        "outputId": "a3f4abe9-f46d-49ea-85e9-00e2113f0125"
      },
      "execution_count": 25,
      "outputs": [
        {
          "output_type": "stream",
          "name": "stdout",
          "text": [
            "Combination by Average ROC:0.9342, precision @ rank n:0.6234\n",
            "Combination by Maximization ROC:0.9292, precision @ rank n:0.5844\n",
            "Combination by AOM ROC:0.9386, precision @ rank n:0.6364\n",
            "Combination by MOA ROC:0.9365, precision @ rank n:0.6234\n"
          ]
        }
      ]
    }
  ]
}