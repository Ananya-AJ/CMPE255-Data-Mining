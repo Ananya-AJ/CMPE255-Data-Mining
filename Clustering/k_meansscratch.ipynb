{
  "nbformat": 4,
  "nbformat_minor": 0,
  "metadata": {
    "colab": {
      "provenance": [],
      "authorship_tag": "ABX9TyNcaPk+uPW0hBWScqo7icC8",
      "include_colab_link": true
    },
    "kernelspec": {
      "name": "python3",
      "display_name": "Python 3"
    },
    "language_info": {
      "name": "python"
    }
  },
  "cells": [
    {
      "cell_type": "markdown",
      "metadata": {
        "id": "view-in-github",
        "colab_type": "text"
      },
      "source": [
        "<a href=\"https://colab.research.google.com/github/Ananya-AJ/CMPE255-Data-Mining/blob/main/Clustering/k_meansscratch.ipynb\" target=\"_parent\"><img src=\"https://colab.research.google.com/assets/colab-badge.svg\" alt=\"Open In Colab\"/></a>"
      ]
    },
    {
      "cell_type": "code",
      "execution_count": 14,
      "metadata": {
        "id": "8Bbx0BP7XQcp"
      },
      "outputs": [],
      "source": [
        "import pandas as pd\n",
        "import numpy as np\n",
        "from sklearn.cluster import KMeans\n",
        "from matplotlib import pyplot as plt\n",
        "%matplotlib inline\n",
        "from sklearn import cluster\n",
        "from sklearn import preprocessing\n",
        "import plotly.express as px\n",
        "from sklearn.datasets import make_blobs\n"
      ]
    },
    {
      "cell_type": "code",
      "source": [
        "!mkdir ~/.kaggle\n",
        "! cp kaggle.json ~/.kaggle/\n",
        "! chmod 600 ~/.kaggle/kaggle.json\n",
        "!kaggle datasets download -d binovi/wholesale-customers-data-set"
      ],
      "metadata": {
        "colab": {
          "base_uri": "https://localhost:8080/"
        },
        "id": "V7ZI-3b3bhTs",
        "outputId": "3fc96d66-3c0c-43bb-f265-b47d7038542e"
      },
      "execution_count": 2,
      "outputs": [
        {
          "output_type": "stream",
          "name": "stdout",
          "text": [
            "Downloading wholesale-customers-data-set.zip to /content\n",
            "\r  0% 0.00/6.85k [00:00<?, ?B/s]\n",
            "\r100% 6.85k/6.85k [00:00<00:00, 4.72MB/s]\n"
          ]
        }
      ]
    },
    {
      "cell_type": "code",
      "source": [
        "!unzip wholesale-customers-data-set.zip"
      ],
      "metadata": {
        "colab": {
          "base_uri": "https://localhost:8080/"
        },
        "id": "R1CrmzlTdisO",
        "outputId": "4f3e617f-7f72-4ee6-e7fd-78f828506f93"
      },
      "execution_count": 3,
      "outputs": [
        {
          "output_type": "stream",
          "name": "stdout",
          "text": [
            "Archive:  wholesale-customers-data-set.zip\n",
            "  inflating: Wholesale customers data.csv  \n"
          ]
        }
      ]
    },
    {
      "cell_type": "code",
      "source": [
        "df = pd.read_csv(\"/content/Wholesale customers data.csv\")\n",
        "df.head()"
      ],
      "metadata": {
        "colab": {
          "base_uri": "https://localhost:8080/",
          "height": 206
        },
        "id": "K1ed-19pdnI1",
        "outputId": "969a9c65-74de-447a-d5e7-761d3b63bd89"
      },
      "execution_count": 6,
      "outputs": [
        {
          "output_type": "execute_result",
          "data": {
            "text/plain": [
              "   Channel  Region  Fresh  Milk  Grocery  Frozen  Detergents_Paper  Delicassen\n",
              "0        2       3  12669  9656     7561     214              2674        1338\n",
              "1        2       3   7057  9810     9568    1762              3293        1776\n",
              "2        2       3   6353  8808     7684    2405              3516        7844\n",
              "3        1       3  13265  1196     4221    6404               507        1788\n",
              "4        2       3  22615  5410     7198    3915              1777        5185"
            ],
            "text/html": [
              "\n",
              "  <div id=\"df-9bf45a3c-050c-4f62-9c0c-bd6653649da0\">\n",
              "    <div class=\"colab-df-container\">\n",
              "      <div>\n",
              "<style scoped>\n",
              "    .dataframe tbody tr th:only-of-type {\n",
              "        vertical-align: middle;\n",
              "    }\n",
              "\n",
              "    .dataframe tbody tr th {\n",
              "        vertical-align: top;\n",
              "    }\n",
              "\n",
              "    .dataframe thead th {\n",
              "        text-align: right;\n",
              "    }\n",
              "</style>\n",
              "<table border=\"1\" class=\"dataframe\">\n",
              "  <thead>\n",
              "    <tr style=\"text-align: right;\">\n",
              "      <th></th>\n",
              "      <th>Channel</th>\n",
              "      <th>Region</th>\n",
              "      <th>Fresh</th>\n",
              "      <th>Milk</th>\n",
              "      <th>Grocery</th>\n",
              "      <th>Frozen</th>\n",
              "      <th>Detergents_Paper</th>\n",
              "      <th>Delicassen</th>\n",
              "    </tr>\n",
              "  </thead>\n",
              "  <tbody>\n",
              "    <tr>\n",
              "      <th>0</th>\n",
              "      <td>2</td>\n",
              "      <td>3</td>\n",
              "      <td>12669</td>\n",
              "      <td>9656</td>\n",
              "      <td>7561</td>\n",
              "      <td>214</td>\n",
              "      <td>2674</td>\n",
              "      <td>1338</td>\n",
              "    </tr>\n",
              "    <tr>\n",
              "      <th>1</th>\n",
              "      <td>2</td>\n",
              "      <td>3</td>\n",
              "      <td>7057</td>\n",
              "      <td>9810</td>\n",
              "      <td>9568</td>\n",
              "      <td>1762</td>\n",
              "      <td>3293</td>\n",
              "      <td>1776</td>\n",
              "    </tr>\n",
              "    <tr>\n",
              "      <th>2</th>\n",
              "      <td>2</td>\n",
              "      <td>3</td>\n",
              "      <td>6353</td>\n",
              "      <td>8808</td>\n",
              "      <td>7684</td>\n",
              "      <td>2405</td>\n",
              "      <td>3516</td>\n",
              "      <td>7844</td>\n",
              "    </tr>\n",
              "    <tr>\n",
              "      <th>3</th>\n",
              "      <td>1</td>\n",
              "      <td>3</td>\n",
              "      <td>13265</td>\n",
              "      <td>1196</td>\n",
              "      <td>4221</td>\n",
              "      <td>6404</td>\n",
              "      <td>507</td>\n",
              "      <td>1788</td>\n",
              "    </tr>\n",
              "    <tr>\n",
              "      <th>4</th>\n",
              "      <td>2</td>\n",
              "      <td>3</td>\n",
              "      <td>22615</td>\n",
              "      <td>5410</td>\n",
              "      <td>7198</td>\n",
              "      <td>3915</td>\n",
              "      <td>1777</td>\n",
              "      <td>5185</td>\n",
              "    </tr>\n",
              "  </tbody>\n",
              "</table>\n",
              "</div>\n",
              "      <button class=\"colab-df-convert\" onclick=\"convertToInteractive('df-9bf45a3c-050c-4f62-9c0c-bd6653649da0')\"\n",
              "              title=\"Convert this dataframe to an interactive table.\"\n",
              "              style=\"display:none;\">\n",
              "        \n",
              "  <svg xmlns=\"http://www.w3.org/2000/svg\" height=\"24px\"viewBox=\"0 0 24 24\"\n",
              "       width=\"24px\">\n",
              "    <path d=\"M0 0h24v24H0V0z\" fill=\"none\"/>\n",
              "    <path d=\"M18.56 5.44l.94 2.06.94-2.06 2.06-.94-2.06-.94-.94-2.06-.94 2.06-2.06.94zm-11 1L8.5 8.5l.94-2.06 2.06-.94-2.06-.94L8.5 2.5l-.94 2.06-2.06.94zm10 10l.94 2.06.94-2.06 2.06-.94-2.06-.94-.94-2.06-.94 2.06-2.06.94z\"/><path d=\"M17.41 7.96l-1.37-1.37c-.4-.4-.92-.59-1.43-.59-.52 0-1.04.2-1.43.59L10.3 9.45l-7.72 7.72c-.78.78-.78 2.05 0 2.83L4 21.41c.39.39.9.59 1.41.59.51 0 1.02-.2 1.41-.59l7.78-7.78 2.81-2.81c.8-.78.8-2.07 0-2.86zM5.41 20L4 18.59l7.72-7.72 1.47 1.35L5.41 20z\"/>\n",
              "  </svg>\n",
              "      </button>\n",
              "      \n",
              "  <style>\n",
              "    .colab-df-container {\n",
              "      display:flex;\n",
              "      flex-wrap:wrap;\n",
              "      gap: 12px;\n",
              "    }\n",
              "\n",
              "    .colab-df-convert {\n",
              "      background-color: #E8F0FE;\n",
              "      border: none;\n",
              "      border-radius: 50%;\n",
              "      cursor: pointer;\n",
              "      display: none;\n",
              "      fill: #1967D2;\n",
              "      height: 32px;\n",
              "      padding: 0 0 0 0;\n",
              "      width: 32px;\n",
              "    }\n",
              "\n",
              "    .colab-df-convert:hover {\n",
              "      background-color: #E2EBFA;\n",
              "      box-shadow: 0px 1px 2px rgba(60, 64, 67, 0.3), 0px 1px 3px 1px rgba(60, 64, 67, 0.15);\n",
              "      fill: #174EA6;\n",
              "    }\n",
              "\n",
              "    [theme=dark] .colab-df-convert {\n",
              "      background-color: #3B4455;\n",
              "      fill: #D2E3FC;\n",
              "    }\n",
              "\n",
              "    [theme=dark] .colab-df-convert:hover {\n",
              "      background-color: #434B5C;\n",
              "      box-shadow: 0px 1px 3px 1px rgba(0, 0, 0, 0.15);\n",
              "      filter: drop-shadow(0px 1px 2px rgba(0, 0, 0, 0.3));\n",
              "      fill: #FFFFFF;\n",
              "    }\n",
              "  </style>\n",
              "\n",
              "      <script>\n",
              "        const buttonEl =\n",
              "          document.querySelector('#df-9bf45a3c-050c-4f62-9c0c-bd6653649da0 button.colab-df-convert');\n",
              "        buttonEl.style.display =\n",
              "          google.colab.kernel.accessAllowed ? 'block' : 'none';\n",
              "\n",
              "        async function convertToInteractive(key) {\n",
              "          const element = document.querySelector('#df-9bf45a3c-050c-4f62-9c0c-bd6653649da0');\n",
              "          const dataTable =\n",
              "            await google.colab.kernel.invokeFunction('convertToInteractive',\n",
              "                                                     [key], {});\n",
              "          if (!dataTable) return;\n",
              "\n",
              "          const docLinkHtml = 'Like what you see? Visit the ' +\n",
              "            '<a target=\"_blank\" href=https://colab.research.google.com/notebooks/data_table.ipynb>data table notebook</a>'\n",
              "            + ' to learn more about interactive tables.';\n",
              "          element.innerHTML = '';\n",
              "          dataTable['output_type'] = 'display_data';\n",
              "          await google.colab.output.renderOutput(dataTable, element);\n",
              "          const docLink = document.createElement('div');\n",
              "          docLink.innerHTML = docLinkHtml;\n",
              "          element.appendChild(docLink);\n",
              "        }\n",
              "      </script>\n",
              "    </div>\n",
              "  </div>\n",
              "  "
            ]
          },
          "metadata": {},
          "execution_count": 6
        }
      ]
    },
    {
      "cell_type": "code",
      "source": [
        "df.dtypes"
      ],
      "metadata": {
        "colab": {
          "base_uri": "https://localhost:8080/"
        },
        "id": "4If4WJrnf66f",
        "outputId": "c398d72d-4f9d-4710-ab7a-2add6021b6fc"
      },
      "execution_count": 11,
      "outputs": [
        {
          "output_type": "execute_result",
          "data": {
            "text/plain": [
              "Channel             int64\n",
              "Region              int64\n",
              "Fresh               int64\n",
              "Milk                int64\n",
              "Grocery             int64\n",
              "Frozen              int64\n",
              "Detergents_Paper    int64\n",
              "Delicassen          int64\n",
              "dtype: object"
            ]
          },
          "metadata": {},
          "execution_count": 11
        }
      ]
    },
    {
      "cell_type": "code",
      "source": [
        "df.plot(x=\"Channel\", y=[\"Grocery\", \"Frozen\",\"Detergents_Paper\"], kind=\"bar\", figsize=(9, 8))\n",
        "plt.show()"
      ],
      "metadata": {
        "colab": {
          "base_uri": "https://localhost:8080/",
          "height": 493
        },
        "id": "5BMZJs6XeCSY",
        "outputId": "7168d56f-d11b-4073-f995-32ace0223c86"
      },
      "execution_count": 10,
      "outputs": [
        {
          "output_type": "display_data",
          "data": {
            "text/plain": [
              "<Figure size 648x576 with 1 Axes>"
            ],
            "image/png": "[encoded data removed]"
          },
          "metadata": {
            "needs_background": "light"
          }
        }
      ]
    },
    {
      "cell_type": "markdown",
      "source": [
        "##k-means from scratch and few plotting defs"
      ],
      "metadata": {
        "id": "-Ql0jVG1hsAx"
      }
    },
    {
      "cell_type": "code",
      "source": [
        "class KMeansClustering:\n",
        "    def __init__(self, X, num_clusters):\n",
        "        self.K = num_clusters # cluster number\n",
        "        self.max_iterations = 100 # max iterations\n",
        "        self.num_examples, self.num_features = X.shape\n",
        "        self.plot_figure = True # plot figure\n",
        "\n",
        "\n",
        "    def initialize_random_centroids(self, X):\n",
        "        centroids = np.zeros((self.K, self.num_features)) \n",
        "        for k in range(self.K):\n",
        "            centroid = X[np.random.choice(range(self.num_examples))] # random centroids\n",
        "            centroids[k] = centroid\n",
        "        return centroids \n",
        "    \n",
        "    def create_cluster(self, X, centroids):\n",
        "        clusters = [[] for _ in range(self.K)]\n",
        "        for point_idx, point in enumerate(X):\n",
        "            closest_centroid = np.argmin(\n",
        "                np.sqrt(np.sum((point-centroids)**2, axis=1))\n",
        "            ) # closest centroid using euler distance equation(calculate distance of every point from centroid)\n",
        "            clusters[closest_centroid].append(point_idx)\n",
        "        return clusters \n",
        "\n",
        "    def calculate_new_centroids(self, cluster, X):\n",
        "        centroids = np.zeros((self.K, self.num_features))\n",
        "        for idx, cluster in enumerate(cluster):\n",
        "            new_centroid = np.mean(X[cluster], axis=0) # find the value for new centroids\n",
        "            centroids[idx] = new_centroid\n",
        "        return centroids\n",
        "\n",
        "    def predict_cluster(self, clusters, X):\n",
        "        y_pred = np.zeros(self.num_examples) \n",
        "        for cluster_idx, cluster in enumerate(clusters):\n",
        "            for sample_idx in cluster:\n",
        "                y_pred[sample_idx] = cluster_idx\n",
        "        return y_pred\n",
        "    def plot_fig(self, X, y):\n",
        "        fig = px.scatter(X[:, 0], X[:, 1], color=y)\n",
        "        fig.show() \n",
        "        \n",
        "    def fit(self, X):\n",
        "        centroids = self.initialize_random_centroids(X) \n",
        "        for _ in range(self.max_iterations):\n",
        "            clusters = self.create_cluster(X, centroids) # create cluster\n",
        "            previous_centroids = centroids\n",
        "            centroids = self.calculate_new_centroids(clusters, X) \n",
        "            diff = centroids - previous_centroids \n",
        "            if not diff.any():\n",
        "                break\n",
        "        y_pred = self.predict_cluster(clusters, X) \n",
        "        if self.plot_figure: \n",
        "            self.plot_fig(X, y_pred) \n",
        "        return y_pred\n",
        "\n"
      ],
      "metadata": {
        "id": "2v9ys_Yff1RO"
      },
      "execution_count": 13,
      "outputs": []
    },
    {
      "cell_type": "code",
      "source": [
        "if __name__ == \"__main__\":\n",
        "    np.random.seed(10)\n",
        "    num_clusters = 3 # num of cluster\n",
        "    X, _ = make_blobs(n_samples=1000, n_features=2, centers=num_clusters) \n",
        "    Kmeans = KMeansClustering(X, num_clusters)\n",
        "    y_pred = Kmeans.fit(X)"
      ],
      "metadata": {
        "colab": {
          "base_uri": "https://localhost:8080/",
          "height": 542
        },
        "id": "ie4ryPsNgjIT",
        "outputId": "65633132-b91a-406a-c8d4-06f8718bf32d"
      },
      "execution_count": 15,
      "outputs": [
        {
          "output_type": "display_data",
          "data": {
            "text/html": [
              "<html>\n",
              "<head><meta charset=\"utf-8\" /></head>\n",
              "<body>\n",
              "    <div>            <script src=\"https://cdnjs.cloudflare.com/ajax/libs/mathjax/2.7.5/MathJax.js?config=TeX-AMS-MML_SVG\"></script><script type=\"text/javascript\">if (window.MathJax) {MathJax.Hub.Config({SVG: {font: \"STIX-Web\"}});}</script>                <script type=\"text/javascript\">window.PlotlyConfig = {MathJaxConfig: 'local'};</script>\n",
              "        <script src=\"https://cdn.plot.ly/plotly-2.8.3.min.js\"></script>                <div id=\"a29a1d91-100b-4623-88ec-cd2682a1abd3\" class=\"plotly-graph-div\" style=\"height:525px; width:100%;\"></div>            <script type=\"text/javascript\">                                    window.PLOTLYENV=window.PLOTLYENV || {};                                    if (document.getElementById(\"a29a1d91-100b-4623-88ec-cd2682a1abd3\")) {                    Plotly.newPlot(                        \"a29a1d91-100b-4623-88ec-cd2682a1abd3\",                        [{\"hovertemplate\":\"x=%{x}<br>index=%{y}<br>color=%{marker.color}<extra></extra>\",\"legendgroup\":\"\",\"marker\":{\"color\":[1.0,0.0,2.0,2.0,0.0,2.0,2.0,2.0,2.0,2.0,1.0,0.0,1.0,1.0,2.0,2.0,2.0,1.0,1.0,1.0,2.0,1.0,2.0,2.0,0.0,0.0,1.0,0.0,1.0,1.0,1.0,1.0,1.0,1.0,1.0,0.0,0.0,1.0,0.0,0.0,0.0,2.0,0.0,0.0,1.0,0.0,2.0,2.0,1.0,1.0,1.0,2.0,0.0,2.0,0.0,2.0,2.0,1.0,0.0,0.0,2.0,2.0,1.0,0.0,2.0,1.0,0.0,2.0,0.0,0.0,0.0,2.0,2.0,1.0,2.0,2.0,1.0,1.0,1.0,2.0,2.0,2.0,0.0,2.0,0.0,1.0,0.0,2.0,2.0,0.0,0.0,1.0,1.0,0.0,2.0,1.0,0.0,1.0,1.0,0.0,0.0,2.0,0.0,0.0,2.0,1.0,2.0,0.0,1.0,2.0,2.0,0.0,1.0,0.0,2.0,1.0,0.0,2.0,2.0,0.0,1.0,1.0,1.0,1.0,1.0,1.0,0.0,2.0,0.0,0.0,0.0,2.0,0.0,2.0,2.0,2.0,2.0,1.0,2.0,2.0,1.0,0.0,2.0,1.0,0.0,1.0,2.0,0.0,0.0,2.0,0.0,1.0,1.0,2.0,2.0,0.0,2.0,2.0,0.0,2.0,0.0,2.0,1.0,1.0,0.0,0.0,0.0,0.0,1.0,2.0,0.0,2.0,2.0,2.0,1.0,1.0,2.0,1.0,1.0,1.0,2.0,2.0,1.0,2.0,0.0,0.0,2.0,2.0,2.0,0.0,2.0,2.0,1.0,1.0,0.0,1.0,0.0,0.0,2.0,2.0,2.0,1.0,0.0,2.0,1.0,1.0,0.0,0.0,0.0,2.0,0.0,0.0,0.0,0.0,0.0,0.0,1.0,1.0,0.0,2.0,0.0,2.0,1.0,1.0,2.0,0.0,2.0,0.0,1.0,2.0,0.0,1.0,0.0,1.0,2.0,2.0,1.0,0.0,2.0,2.0,0.0,2.0,0.0,1.0,1.0,0.0,2.0,2.0,2.0,0.0,2.0,0.0,1.0,0.0,0.0,0.0,0.0,2.0,0.0,0.0,1.0,1.0,0.0,2.0,0.0,1.0,2.0,1.0,0.0,1.0,1.0,0.0,2.0,1.0,2.0,1.0,0.0,0.0,1.0,1.0,1.0,0.0,2.0,0.0,0.0,1.0,1.0,1.0,1.0,2.0,2.0,0.0,0.0,0.0,2.0,0.0,2.0,1.0,1.0,2.0,2.0,1.0,2.0,1.0,1.0,1.0,2.0,2.0,1.0,0.0,1.0,1.0,2.0,1.0,1.0,0.0,2.0,1.0,2.0,2.0,2.0,0.0,0.0,1.0,2.0,1.0,0.0,2.0,1.0,2.0,0.0,2.0,1.0,2.0,1.0,1.0,1.0,1.0,2.0,1.0,1.0,0.0,2.0,0.0,1.0,0.0,0.0,0.0,1.0,0.0,1.0,1.0,1.0,0.0,0.0,2.0,2.0,1.0,0.0,2.0,2.0,2.0,1.0,2.0,1.0,0.0,2.0,2.0,0.0,2.0,2.0,2.0,1.0,0.0,2.0,2.0,1.0,1.0,2.0,1.0,1.0,0.0,2.0,0.0,0.0,0.0,1.0,2.0,1.0,1.0,2.0,2.0,0.0,2.0,2.0,0.0,1.0,2.0,2.0,2.0,0.0,1.0,2.0,2.0,2.0,1.0,0.0,2.0,0.0,2.0,1.0,1.0,2.0,2.0,2.0,1.0,2.0,1.0,1.0,0.0,2.0,1.0,2.0,1.0,2.0,1.0,0.0,0.0,0.0,0.0,2.0,1.0,2.0,1.0,1.0,0.0,0.0,2.0,0.0,2.0,1.0,0.0,1.0,1.0,0.0,0.0,1.0,1.0,2.0,0.0,0.0,0.0,2.0,1.0,1.0,0.0,0.0,1.0,0.0,1.0,0.0,2.0,1.0,1.0,2.0,0.0,1.0,2.0,2.0,0.0,2.0,1.0,2.0,2.0,1.0,1.0,1.0,2.0,1.0,1.0,0.0,0.0,2.0,1.0,2.0,2.0,1.0,1.0,1.0,2.0,0.0,2.0,1.0,2.0,2.0,2.0,1.0,2.0,0.0,1.0,1.0,2.0,2.0,2.0,1.0,1.0,1.0,1.0,2.0,2.0,0.0,1.0,0.0,0.0,1.0,1.0,2.0,0.0,2.0,2.0,0.0,2.0,0.0,2.0,2.0,0.0,1.0,0.0,2.0,2.0,1.0,2.0,0.0,0.0,0.0,0.0,2.0,2.0,2.0,2.0,2.0,0.0,0.0,2.0,0.0,1.0,2.0,0.0,0.0,1.0,2.0,2.0,0.0,0.0,1.0,1.0,0.0,1.0,0.0,0.0,1.0,1.0,2.0,1.0,0.0,1.0,0.0,1.0,0.0,0.0,2.0,1.0,1.0,2.0,1.0,2.0,2.0,2.0,0.0,0.0,0.0,2.0,0.0,1.0,0.0,2.0,1.0,1.0,1.0,0.0,0.0,0.0,0.0,0.0,0.0,1.0,2.0,2.0,2.0,2.0,2.0,0.0,0.0,1.0,0.0,0.0,1.0,1.0,2.0,0.0,2.0,0.0,2.0,0.0,2.0,0.0,1.0,0.0,1.0,2.0,2.0,1.0,1.0,2.0,0.0,2.0,2.0,1.0,0.0,1.0,1.0,2.0,0.0,0.0,0.0,1.0,0.0,1.0,0.0,1.0,0.0,1.0,0.0,0.0,1.0,1.0,2.0,2.0,0.0,2.0,2.0,0.0,1.0,2.0,2.0,1.0,0.0,1.0,0.0,1.0,0.0,1.0,2.0,2.0,2.0,2.0,0.0,2.0,2.0,2.0,2.0,1.0,1.0,0.0,0.0,0.0,0.0,1.0,2.0,2.0,0.0,1.0,2.0,2.0,0.0,1.0,1.0,0.0,2.0,0.0,1.0,1.0,1.0,1.0,1.0,1.0,1.0,0.0,1.0,2.0,0.0,2.0,1.0,0.0,2.0,2.0,2.0,2.0,1.0,0.0,1.0,2.0,1.0,0.0,2.0,0.0,2.0,0.0,2.0,0.0,0.0,0.0,0.0,0.0,1.0,0.0,2.0,1.0,1.0,0.0,1.0,1.0,1.0,2.0,0.0,1.0,1.0,1.0,2.0,0.0,1.0,0.0,2.0,2.0,2.0,1.0,0.0,1.0,0.0,1.0,0.0,0.0,1.0,1.0,0.0,1.0,0.0,2.0,0.0,0.0,0.0,1.0,2.0,0.0,1.0,2.0,1.0,1.0,2.0,0.0,2.0,0.0,1.0,0.0,0.0,0.0,2.0,0.0,2.0,0.0,2.0,0.0,0.0,0.0,0.0,1.0,2.0,1.0,2.0,1.0,2.0,1.0,2.0,0.0,0.0,2.0,0.0,2.0,1.0,0.0,2.0,0.0,1.0,2.0,2.0,0.0,1.0,0.0,0.0,1.0,1.0,1.0,0.0,2.0,0.0,1.0,2.0,0.0,2.0,0.0,1.0,0.0,1.0,0.0,1.0,0.0,1.0,0.0,0.0,2.0,2.0,1.0,0.0,1.0,0.0,1.0,2.0,0.0,2.0,1.0,2.0,1.0,2.0,2.0,1.0,2.0,2.0,1.0,1.0,1.0,0.0,1.0,1.0,2.0,1.0,2.0,1.0,1.0,2.0,2.0,0.0,2.0,0.0,1.0,2.0,0.0,0.0,1.0,2.0,2.0,1.0,2.0,1.0,1.0,1.0,0.0,2.0,1.0,1.0,1.0,0.0,2.0,1.0,2.0,2.0,2.0,1.0,0.0,0.0,1.0,1.0,1.0,0.0,0.0,2.0,2.0,0.0,0.0,2.0,2.0,1.0,1.0,0.0,0.0,2.0,0.0,1.0,1.0,2.0,1.0,0.0,0.0,0.0,1.0,2.0,0.0,0.0,1.0,1.0,0.0,1.0,1.0,1.0,2.0,2.0,2.0,1.0,0.0,1.0,0.0,0.0,0.0,2.0,0.0,1.0,1.0,1.0,2.0,0.0,2.0,1.0,1.0,0.0,1.0,2.0,0.0,2.0,2.0,2.0,1.0,0.0,0.0,0.0,2.0,0.0,0.0,0.0,2.0,0.0,1.0,2.0,2.0,0.0,1.0,1.0,2.0,0.0,1.0,1.0,0.0,2.0,1.0,1.0,2.0,2.0,0.0,1.0,2.0,0.0,1.0,0.0,1.0,2.0,0.0,0.0,0.0,2.0,0.0,2.0,2.0,1.0,1.0,2.0,0.0,1.0,2.0,1.0,0.0,0.0,2.0],\"coloraxis\":\"coloraxis\",\"symbol\":\"circle\"},\"mode\":\"markers\",\"name\":\"\",\"orientation\":\"h\",\"showlegend\":false,\"x\":[-9.949239099061648,3.5146640084601692,-6.050384769217066,-4.379234024357739,5.656122848760292,-6.873436295040978,-5.949594201954527,-4.676204482247315,-4.246467798196636,-5.719586472547627,-9.374510284432583,4.384058929415436,-9.048692461064395,-8.329787281102398,-5.571238195470005,-5.9981452375207605,-4.570684608581387,-9.423148226662216,-9.349716247816396,-10.156937826099737,-4.284642251592733,-10.495907068619,-6.901678174852386,-5.67325489641496,5.228065454862072,5.092954740247975,-11.283362503973883,5.725625795369762,-10.491207833535814,-9.97368895966678,-10.653528721279853,-10.45948605750437,-10.078101754252915,-7.199993682100873,-9.840241466856256,3.7188748786397334,5.313049518263077,-8.390610410348724,3.893459043596371,4.740030298921502,3.7380601233571955,-5.817565845182003,4.869274889507396,7.424082454607349,-9.135939282118146,3.13075128453326,-5.533289130408102,-5.173458142678928,-9.037017085971303,-9.5556513018688,-8.382217138842066,-4.70922783995076,6.0592625018033495,-5.2808264114202625,5.975838169658168,-4.5902190212743665,-5.093128672305159,-10.368996573447111,4.139776708192858,5.06106052261734,-4.976254830580074,-6.352471637811934,-10.302473228813515,4.939110119630442,-5.79776109066362,-8.20242352609057,5.329968528825621,-8.122250020143465,6.4880315006762785,4.7423350522966174,4.681393293100095,-4.56507193945349,-6.243614034030617,-8.479385876653904,-4.687676229828357,-7.765353683265568,-9.948147214239139,-8.242781728556945,-10.282771043283685,-4.451603947161981,-5.085622474532823,-6.74179226398152,5.324223096135964,-6.550153779244556,3.595861975991069,-9.580936100824031,4.872514146985364,-6.212160689333972,-5.639590920513023,5.80959233894682,5.010958108556561,-9.9225933498975,-11.003517042035364,3.7689403477911068,-5.501398242163495,-10.086689912406838,5.692866027043087,-10.26390778743201,-10.044886560707774,5.2328674857917505,3.9558148018673647,-6.614347800898115,4.85628288324129,6.891730239690485,-6.554621369563872,-10.091620393899355,-5.6053947865574605,6.959319237010985,-9.46029423773359,-6.519487997886434,-7.372842202946783,5.36011543627095,-9.34041703616398,5.618528275206256,-5.8840222312595225,-9.842494637613436,5.04384491397309,-4.231342877514935,-4.925108593177964,4.0957899244513385,-8.975678746529606,-9.706866703973859,-7.7548138626319245,-9.495373400222453,-9.269849844590302,-10.09783620516338,5.05460646591499,-4.342964389061623,4.833744062532839,5.488880448567718,5.214894893211171,-5.073416095732538,5.368302737201615,-5.207039168884843,-4.900786135048271,-4.85058952205331,-5.904724204011968,-9.509302092898123,-4.488981215362677,-3.1769312527159403,-10.581967222899731,5.430778815790614,-7.933991204549466,-9.573938316036172,5.221408358786743,-9.084066045878398,-5.490402776205821,6.257651491406933,4.42191363020374,-5.437643271264108,6.803687858321645,-9.041725927166812,-10.161077873686516,-6.433885380049212,-8.005378094967586,6.113877117723982,-5.3911995046898795,-5.910346266079265,6.085458967552332,-4.521387477726549,4.506218996247155,-7.249689349360228,-8.381923638999758,-9.608002201185219,4.624837671475986,3.544443559478586,4.485438130190961,4.311840322493039,-8.705475322254308,-5.975852494081588,3.82954577497924,-5.505358019955227,-3.288002643563306,-4.981503146801076,-10.316930514813178,-9.620289075119418,-4.289953538313165,-9.09197580803182,-9.985099364797698,-10.971783547423112,-5.586665443916934,-3.678261282939558,-10.280017658219306,-6.121004478158978,5.751731872437374,3.8066099797614195,-5.351210127016234,-4.281754699749951,-5.437762014826694,3.9726897070864977,-5.319882643109674,-5.040447358778907,-9.389947733578877,-10.555158835788212,4.954812732061677,-10.314360235283221,5.28695402620527,5.187525509891869,-5.265686180545716,-5.868567017168987,-6.499548135048798,-8.411228599389167,5.132793238204423,-6.248383433409062,-11.118029731102153,-10.780890324275488,4.665588162112996,4.938629031185235,4.682988711528421,-5.719410814430197,4.9014579878577855,4.667296836974554,6.094108455035707,6.160632441846403,6.945121845076475,5.347358483407169,-8.968510090407097,-9.730025550137048,6.417553526836632,-5.260194946376695,4.598759569007858,-4.073576439393268,-10.367648759803302,-9.476412487097,-5.3357369260545715,5.061969737719905,-5.9475696899408845,3.638288599802924,-8.971756827952332,-3.9358873950944995,4.853066595451791,-10.055768264297487,4.673958166316942,-9.320566321181259,-4.194316031014063,-5.611255169346884,-11.579354782553027,4.9029498113286945,-5.286972220095523,-4.870824334531962,5.507638890558723,-5.215745948041394,5.357682252413442,-9.913793052811997,-9.668876256993176,3.9172293587945797,-7.107515026385198,-5.18398330271234,-6.508067505732464,2.968102458154925,-5.686087031180246,5.216285077482344,-9.751366384325706,4.922852759581916,3.950935614107027,4.590616748890819,4.768507725746373,-3.7937920212561727,4.577805397179192,3.229341808276498,-10.053691726096986,-9.104172269718777,5.887786017752486,-6.903318556359609,6.10860313790454,-8.755448528414728,-6.895199146191417,-10.714512207245761,3.0814837631264638,-8.24015450218374,-9.10772670970077,6.4810975783228155,-6.03724016197617,-9.34562174638073,-6.807957587181551,-9.756253810397011,4.422968309958414,4.925937015215542,-10.962836842050526,-10.559160605070106,-8.556686934829266,5.100723812233009,-6.287782914789754,5.76093338537655,4.111890846752033,-9.3664021808702,-10.250726743996294,-8.736752403790314,-8.614401486143104,-6.547163497130965,-5.3592784722727,5.1665502652186985,5.7413249586451345,5.082219372194625,-5.025752048658763,4.399107332946988,-5.268705624374783,-9.797658651522482,-8.187623036194633,-5.0109526118210965,-6.072609605923861,-9.297150578517241,-5.76920486127381,-9.580858974253232,-10.367304207123308,-9.467779592617488,-4.611839533228407,-7.634494709258433,-9.73238127053899,4.713129738315012,-9.63495819098358,-7.117309956377367,-5.3403193559861455,-9.80422127681497,-9.295866809008036,4.9091280665981785,-6.119138154344835,-9.50082145742022,-4.60746855871711,-6.811426159102653,-4.701216167241991,4.902054426804431,5.275253045927464,-10.38785064124999,-6.856666603519239,-8.991771781522521,6.166771823548192,-7.288144713134219,-8.847782031691347,-6.244575448766023,5.412612609575191,-7.8808248671420635,-9.097265074634885,-5.484051630028307,-7.912338799504142,-9.623842145908284,-9.80773471191497,-10.944271585917969,-6.539349146077244,-8.66750207530154,-8.151324486575637,5.20833464991277,-3.4036860332522223,3.602834977811379,-9.792240498533408,5.102333126363189,5.98527369043122,5.34134389207909,-9.38138021548449,6.352875992661881,-9.762259835457538,-9.235484604144604,-10.481104849281571,5.772280262772786,5.8137145712080365,-5.990905804455457,-5.858601811475905,-8.747879237439166,5.589970723149951,-3.903445152523113,-3.7863719820118025,-5.650657269728116,-8.8437736073038,-7.751737588117693,-9.443856844747538,5.035228677657869,-5.190872132075088,-5.584592904550472,4.350776102215217,-6.189135358644345,-5.219767681622339,-6.173568544756452,-11.243565719385265,3.366577280948447,-5.936350439876683,-5.347492137739134,-9.635810662909542,-9.875206821424435,-6.935433194341865,-8.981761962581379,-11.49241790093637,3.6631215446051186,-5.65691733378518,6.416775052650792,5.0478159564419185,5.163534092463685,-9.039176547524553,-4.697559486124703,-8.917071403978527,-8.908252817317656,-5.927022226166793,-5.110495918881586,4.186598510859031,-6.547989455320318,-6.733629199163226,5.4714261581908135,-10.336581453734409,-6.615233925390842,-5.584347669745944,-6.77438159903891,6.569041941440222,-10.10673746099796,-5.9201290406407185,-5.705544504879134,-6.096912009912526,-10.099870935283223,5.053115261217578,-5.704427383573088,4.9679098631902185,-6.485492569644362,-9.935832904251841,-9.335782354925636,-5.015101163031667,-5.444952862037077,-6.471890745340277,-8.576678046106746,-5.131833704851523,-10.305046573530866,-10.607271705089365,4.5202957492919795,-6.3521664688889325,-9.832436285879592,-5.018663872763165,-8.964360349803357,-3.829730689122731,-10.267302486340764,3.054082747166097,3.155533524729484,4.017977482563906,4.033684523675298,-5.460664465309424,-11.442319178601888,-5.342806876813421,-8.526524370306038,-12.564557783873104,4.184975697674142,5.607916478734011,-5.623122333869534,7.7692434125033785,-4.502458451929234,-10.243978321147221,5.44216828969812,-11.526260693834399,-8.803185822436355,5.82226274604328,3.679215525001821,-10.338853973559669,-9.10731206854801,-6.533366586379897,5.619306064870474,4.523988363855421,4.878664332434495,-6.08763528157544,-8.993507926181648,-9.609389551798577,3.565246223779673,3.8323012479639145,-11.682752886085716,3.8517354304213858,-8.982938742058257,3.7629773907288016,-6.108217393780658,-9.17066337161796,-9.290891754950088,-6.089847670598624,4.799635728055355,-6.922383538980865,-3.962533709884802,-5.286173142361046,5.714471013590995,-7.033838483479718,-10.664765898597246,-5.445410078699235,-4.049992470527862,-9.514806639038495,-10.065748352943993,-9.763980713678341,-6.194296933999731,-10.161854354299418,-9.212838467406394,4.504483037244606,5.871357234302307,-5.29948524024931,-8.642596515355159,-7.324086418925408,-5.23959790263281,-9.88916118299032,-7.714973188378782,-11.193811375650087,-4.904065965656681,6.8901783800722844,-3.5577091960079343,-8.525432686727525,-5.229291976637087,-4.934920846181289,-7.284194994216822,-8.09898159877306,-5.827478806918444,4.636755533239652,-11.485974748683034,-9.271130491252965,-4.956741392105779,-6.217135160196271,-4.73710776923417,-8.426909441114407,-9.933842931029464,-8.666691861332554,-9.3966297982303,-5.890261608226384,-4.155470345845374,5.576754428140152,-8.162107667561099,6.0039165795946925,4.557503627661353,-10.372229939059157,-9.272791076498748,-4.0819548118544375,5.427123864185603,-5.868978846518498,-6.628275952457516,3.3074449848373075,-5.6179548389191,4.9105752385593275,-6.04404058147095,-7.050452095800129,4.154699348515692,-8.76974033138355,5.260008570227043,-5.5612123060129255,-6.301144043249073,-9.68043684465933,-4.371881568940081,5.631674641733889,4.332811097620858,4.417195757290747,3.508313294473002,-4.98275756787999,-5.799965029974951,-3.0477592659691837,-3.586459782182363,-3.398458252665527,4.197674050782879,3.4956677089926513,-5.9972901413764514,5.396268389382452,-9.305355620631959,-4.660188519735712,3.7411442733012112,6.503967825596244,-9.261571083090304,-6.214943994930714,-4.730483840690673,4.435821229352381,5.212521919799434,-8.86153181619629,-8.770306493420108,4.768350037606197,-9.974242554931282,3.9512749609304825,4.491157886132647,-9.479148930016214,-11.171512773659819,-5.492450462262404,-9.315388589393093,2.564846078979532,-9.375589923449539,3.8604184998701614,-10.225793305332669,3.5431069874398258,4.547691490888061,-5.277114618334106,-10.382969830484214,-8.449987839730063,-4.323986333678906,-9.091445695563682,-4.769105740049853,-6.446497107765671,-5.737522193280238,3.911454046780465,4.765055457526712,5.433969624631255,-5.848081739523922,6.230957490967,-9.64148173589456,5.17425756514873,-6.2346820503606475,-9.437927072928053,-11.539473132813475,-9.375121870940227,2.4646085517147744,7.094669086411535,3.196280821701013,4.267787712189065,3.0591910568180323,5.838103500009262,-10.764165515128106,-5.355231296977527,-6.822165859916712,-7.169814232146349,-4.464052503998336,-5.0918229705851825,6.194137760009324,5.125533145374094,-8.119306007725733,4.916306771065798,7.293634725667313,-9.540186327395022,-9.945132147241422,-4.995443241885698,5.804692481524958,-4.804552438478414,5.5852880585202005,-4.565348773381288,3.8243571549621955,-5.908752839418124,5.021743551013988,-8.481088109568985,4.483214631283471,-9.831448133409115,-6.214683474979997,-3.5138419114414248,-7.119635930750494,-10.8484578763167,-6.599003075687511,4.660745371189933,-5.9077514293829125,-5.114819816806603,-10.047801898408238,5.285839874488645,-10.545966355862054,-8.272038265833539,-4.692561407749782,6.172257721284195,5.38501385083676,3.7552353953584316,-8.542908598520134,3.6351953471806233,-9.957722429248838,3.5745003078603603,-9.475416586493512,5.0437712594213515,-11.351126013334158,4.0087515611606355,5.18986237049749,-9.25738564724007,-9.638555514535067,-5.112202606067378,-5.3021284980454615,5.298470157589927,-4.492180347699262,-3.281715196563881,6.610580325250358,-11.152409019033145,-5.661134340630502,-5.552124505226756,-8.712330847399064,5.028344150185201,-10.688483144073196,4.519762471611116,-9.70803084132211,6.034894672483427,-10.072685429759144,-5.280527202145202,-4.599821056786585,-3.9272215966853588,-7.010058776542605,4.273433865578825,-5.849958328781585,-6.061721531723786,-4.980187058438492,-5.703921396543512,-9.023088547844,-8.024752231844737,4.865195288249276,4.666642025464257,5.91797223136291,4.394471983873247,-9.038296175277436,-6.173353695005672,-5.373688698950177,4.004598578686109,-9.424561849869411,-5.443108468818403,-5.92162133675769,4.688493198641266,-9.150023738218604,-9.734093719417642,5.266499907178708,-4.302007955102388,4.218737799213941,-9.520515512743911,-11.203531760627765,-10.258462826831636,-10.905408558703426,-11.716673121293574,-10.55466668561677,-10.061103027739307,4.719461683705393,-9.806754149211464,-4.868259351934492,4.61703382748726,-6.147188239265822,-11.328333308710878,3.6871418396031146,-5.935686330865057,-5.821249362906902,-5.439588872777257,-6.661092596488698,-7.764180359104756,4.1968196032849345,-9.677942554402058,-6.200565709982676,-9.59644950908011,5.599466062094166,-4.513886838473633,5.461677421160959,-4.129981969415062,4.102275933582446,-5.982136434543862,3.885899067570694,6.551419735684169,6.485450609318154,3.476915068709565,6.966083163210167,-8.876800992885366,7.087176187540635,-3.4473251594566823,-9.238727897460787,-9.700841743402911,5.693655907952158,-7.200836389778084,-10.234399383719087,-9.490252701556638,-6.451570225627114,5.453223299296077,-8.922587001087336,-9.38976821669478,-9.084824161866663,-5.978117347001502,4.858864178895053,-9.444714146006895,4.435713319415134,-4.040543734886757,-6.432156403482261,-4.860957812296605,-10.804816546612388,5.840248199073559,-9.139823399981623,4.6813686519713205,-10.123679544589297,5.3454735906442545,5.662926056761204,-9.044420299710707,-10.460383389615897,4.085801071775254,-8.83008494208543,6.157429482560627,-5.675484423653765,5.880851572030053,4.78915634488032,5.791299674059,-7.383994575170183,-6.4812676746184135,5.446509775931627,-10.141008354453273,-6.351976222725658,-9.418150745792238,-8.840986609026046,-5.933510324140845,5.151217150352319,-5.15225966033039,6.714163666516176,-9.879387020201913,4.441270654971917,4.750878813088063,5.610226715552216,-4.9866538537967555,5.699064483324708,-5.2276639501508,5.193305867462354,-5.798045900252843,4.0487155527175425,3.5480901402151863,5.58750046223145,6.134280174088164,-8.790263385086874,-4.444004204112244,-8.996920419003109,-7.281873835618435,-10.063995578404551,-7.23639586218996,-10.175147543499193,-5.721079774257954,3.961738474636804,5.912165913740736,-5.025377835680925,7.300126396215372,-7.446164493308487,-8.730132256499303,5.6255236862568285,-4.186984589455365,4.994625786557932,-8.780693655120231,-5.915564035478287,-5.63954553705813,3.7376182585974154,-9.19161979573023,5.144509619870514,4.542304968702543,-9.034116311703416,-9.172428297150393,-9.228021945806328,4.329421370847022,-4.001095076522801,3.852164159730025,-7.840146864472668,-5.210361968348156,4.847263908688958,-5.232496703439909,5.922376315016037,-9.622878894825003,5.191355585791504,-8.957510044188579,5.125499909500104,-10.376351783779414,5.468245399786949,-9.276293339624177,4.994000841666141,5.415810324975787,-3.93015832890253,-5.794473327281987,-11.761569647464972,3.1972444910164857,-8.47545578435321,3.5172882296690435,-10.134270026917449,-5.312281425741033,5.98798349121771,-6.507671805459507,-9.819628474429006,-4.660922184384861,-8.137795412143747,-5.667571737503399,-5.1330995767601655,-9.149510624300722,-4.866396233963369,-3.325623500027619,-10.18994873073358,-8.186964635718395,-9.40231363424292,5.768267403467763,-9.124058111140252,-10.44771931220898,-4.759603667476674,-9.115209578728926,-7.348732735195829,-8.608054982125168,-10.431977265856824,-3.944406621472671,-7.558989261706633,4.459547464235929,-5.935660933874465,5.39990220823525,-10.95807519746706,-5.419331261052124,5.31140960841597,3.8299818244341317,-10.395872823438712,-5.184896846531198,-6.203392719902247,-8.202814387821906,-4.757324443768338,-8.59588855531253,-10.074298229696621,-9.4283092558347,6.010428353246163,-7.17058932113298,-8.460719097207015,-8.852235242585387,-9.830706400360349,5.132449172588662,-4.828132056769715,-9.55673364551285,-6.662007068261444,-5.603775964614265,-6.067053144147959,-9.051471991362666,6.139663446064106,5.230147106910764,-9.759561223404912,-8.920815405883642,-11.98053302620377,3.0844322541005873,5.502092343715383,-6.479611474887607,-6.499272780332972,4.040168152031577,4.935065145869313,-3.7091188457124677,-5.768242760287633,-8.959379070763895,-8.97266370031342,4.168281325042774,4.048170149633989,-4.3331816939103005,5.456645113727291,-10.157848234589487,-9.94714145995421,-6.061968296388173,-8.633215048696984,6.469310980079969,3.985653761737277,4.294520171778815,-10.942658572850787,-5.286037953632256,3.296132268187895,6.151585193598603,-9.938723743513826,-10.340376846622387,5.125642055919314,-10.481268679867025,-10.413432229708809,-8.172896708388325,-5.948621110430792,-3.975403516445459,-4.216009392674496,-10.845788818466112,5.269571478820004,-10.324317751320642,4.725616831623635,3.9157421233026364,5.975332143670107,-5.966514610832256,4.337385168733799,-7.970553038666505,-8.421237312643601,-10.73377327721983,-5.9562281896235465,5.034833030996247,-5.467536082732727,-10.276648666936534,-10.691084249094846,5.176578347178435,-9.392838719717776,-6.610796957510472,4.631528873694957,-6.327565739987643,-3.8972379261477856,-6.309676638584144,-11.56859751046094,4.743876022856261,6.936594301672011,5.769818898993832,-6.84815839632958,4.893597089525109,4.437500282346179,5.385770976301395,-5.994049670022544,4.705059750543438,-9.951537003056586,-7.551540953299835,-4.9979613590018594,4.772474571911738,-9.340162924265984,-8.856467548187155,-5.710585325771878,5.95099770224858,-9.527675862655952,-10.34279066516289,5.045851365161537,-5.698855838531341,-9.449824134363334,-9.020608486425852,-5.73759476524905,-5.385324651668772,4.081932880906079,-9.845820491366146,-3.2975052233435127,4.0806024148620175,-9.618888012489052,4.8565246678711675,-8.654125378148583,-6.11688878687783,7.034605010346116,4.404887771468212,4.896142413636423,-4.909706255359858,5.659484911344631,-4.979276630078022,-5.924166731803307,-11.142503484842965,-10.638076986275522,-7.885895896398211,5.9970595788434435,-10.114257093811458,-3.870793604095691,-8.226171873828676,4.8699597185977455,4.046413426849888,-4.828955098803027],\"xaxis\":\"x\",\"y\":[0,1,2,3,4,5,6,7,8,9,10,11,12,13,14,15,16,17,18,19,20,21,22,23,24,25,26,27,28,29,30,31,32,33,34,35,36,37,38,39,40,41,42,43,44,45,46,47,48,49,50,51,52,53,54,55,56,57,58,59,60,61,62,63,64,65,66,67,68,69,70,71,72,73,74,75,76,77,78,79,80,81,82,83,84,85,86,87,88,89,90,91,92,93,94,95,96,97,98,99,100,101,102,103,104,105,106,107,108,109,110,111,112,113,114,115,116,117,118,119,120,121,122,123,124,125,126,127,128,129,130,131,132,133,134,135,136,137,138,139,140,141,142,143,144,145,146,147,148,149,150,151,152,153,154,155,156,157,158,159,160,161,162,163,164,165,166,167,168,169,170,171,172,173,174,175,176,177,178,179,180,181,182,183,184,185,186,187,188,189,190,191,192,193,194,195,196,197,198,199,200,201,202,203,204,205,206,207,208,209,210,211,212,213,214,215,216,217,218,219,220,221,222,223,224,225,226,227,228,229,230,231,232,233,234,235,236,237,238,239,240,241,242,243,244,245,246,247,248,249,250,251,252,253,254,255,256,257,258,259,260,261,262,263,264,265,266,267,268,269,270,271,272,273,274,275,276,277,278,279,280,281,282,283,284,285,286,287,288,289,290,291,292,293,294,295,296,297,298,299,300,301,302,303,304,305,306,307,308,309,310,311,312,313,314,315,316,317,318,319,320,321,322,323,324,325,326,327,328,329,330,331,332,333,334,335,336,337,338,339,340,341,342,343,344,345,346,347,348,349,350,351,352,353,354,355,356,357,358,359,360,361,362,363,364,365,366,367,368,369,370,371,372,373,374,375,376,377,378,379,380,381,382,383,384,385,386,387,388,389,390,391,392,393,394,395,396,397,398,399,400,401,402,403,404,405,406,407,408,409,410,411,412,413,414,415,416,417,418,419,420,421,422,423,424,425,426,427,428,429,430,431,432,433,434,435,436,437,438,439,440,441,442,443,444,445,446,447,448,449,450,451,452,453,454,455,456,457,458,459,460,461,462,463,464,465,466,467,468,469,470,471,472,473,474,475,476,477,478,479,480,481,482,483,484,485,486,487,488,489,490,491,492,493,494,495,496,497,498,499,500,501,502,503,504,505,506,507,508,509,510,511,512,513,514,515,516,517,518,519,520,521,522,523,524,525,526,527,528,529,530,531,532,533,534,535,536,537,538,539,540,541,542,543,544,545,546,547,548,549,550,551,552,553,554,555,556,557,558,559,560,561,562,563,564,565,566,567,568,569,570,571,572,573,574,575,576,577,578,579,580,581,582,583,584,585,586,587,588,589,590,591,592,593,594,595,596,597,598,599,600,601,602,603,604,605,606,607,608,609,610,611,612,613,614,615,616,617,618,619,620,621,622,623,624,625,626,627,628,629,630,631,632,633,634,635,636,637,638,639,640,641,642,643,644,645,646,647,648,649,650,651,652,653,654,655,656,657,658,659,660,661,662,663,664,665,666,667,668,669,670,671,672,673,674,675,676,677,678,679,680,681,682,683,684,685,686,687,688,689,690,691,692,693,694,695,696,697,698,699,700,701,702,703,704,705,706,707,708,709,710,711,712,713,714,715,716,717,718,719,720,721,722,723,724,725,726,727,728,729,730,731,732,733,734,735,736,737,738,739,740,741,742,743,744,745,746,747,748,749,750,751,752,753,754,755,756,757,758,759,760,761,762,763,764,765,766,767,768,769,770,771,772,773,774,775,776,777,778,779,780,781,782,783,784,785,786,787,788,789,790,791,792,793,794,795,796,797,798,799,800,801,802,803,804,805,806,807,808,809,810,811,812,813,814,815,816,817,818,819,820,821,822,823,824,825,826,827,828,829,830,831,832,833,834,835,836,837,838,839,840,841,842,843,844,845,846,847,848,849,850,851,852,853,854,855,856,857,858,859,860,861,862,863,864,865,866,867,868,869,870,871,872,873,874,875,876,877,878,879,880,881,882,883,884,885,886,887,888,889,890,891,892,893,894,895,896,897,898,899,900,901,902,903,904,905,906,907,908,909,910,911,912,913,914,915,916,917,918,919,920,921,922,923,924,925,926,927,928,929,930,931,932,933,934,935,936,937,938,939,940,941,942,943,944,945,946,947,948,949,950,951,952,953,954,955,956,957,958,959,960,961,962,963,964,965,966,967,968,969,970,971,972,973,974,975,976,977,978,979,980,981,982,983,984,985,986,987,988,989,990,991,992,993,994,995,996,997,998,999],\"yaxis\":\"y\",\"type\":\"scatter\"}],                        {\"template\":{\"data\":{\"bar\":[{\"error_x\":{\"color\":\"#2a3f5f\"},\"error_y\":{\"color\":\"#2a3f5f\"},\"marker\":{\"line\":{\"color\":\"#E5ECF6\",\"width\":0.5},\"pattern\":{\"fillmode\":\"overlay\",\"size\":10,\"solidity\":0.2}},\"type\":\"bar\"}],\"barpolar\":[{\"marker\":{\"line\":{\"color\":\"#E5ECF6\",\"width\":0.5},\"pattern\":{\"fillmode\":\"overlay\",\"size\":10,\"solidity\":0.2}},\"type\":\"barpolar\"}],\"carpet\":[{\"aaxis\":{\"endlinecolor\":\"#2a3f5f\",\"gridcolor\":\"white\",\"linecolor\":\"white\",\"minorgridcolor\":\"white\",\"startlinecolor\":\"#2a3f5f\"},\"baxis\":{\"endlinecolor\":\"#2a3f5f\",\"gridcolor\":\"white\",\"linecolor\":\"white\",\"minorgridcolor\":\"white\",\"startlinecolor\":\"#2a3f5f\"},\"type\":\"carpet\"}],\"choropleth\":[{\"colorbar\":{\"outlinewidth\":0,\"ticks\":\"\"},\"type\":\"choropleth\"}],\"contour\":[{\"colorbar\":{\"outlinewidth\":0,\"ticks\":\"\"},\"colorscale\":[[0.0,\"#0d0887\"],[0.1111111111111111,\"#46039f\"],[0.2222222222222222,\"#7201a8\"],[0.3333333333333333,\"#9c179e\"],[0.4444444444444444,\"#bd3786\"],[0.5555555555555556,\"#d8576b\"],[0.6666666666666666,\"#ed7953\"],[0.7777777777777778,\"#fb9f3a\"],[0.8888888888888888,\"#fdca26\"],[1.0,\"#f0f921\"]],\"type\":\"contour\"}],\"contourcarpet\":[{\"colorbar\":{\"outlinewidth\":0,\"ticks\":\"\"},\"type\":\"contourcarpet\"}],\"heatmap\":[{\"colorbar\":{\"outlinewidth\":0,\"ticks\":\"\"},\"colorscale\":[[0.0,\"#0d0887\"],[0.1111111111111111,\"#46039f\"],[0.2222222222222222,\"#7201a8\"],[0.3333333333333333,\"#9c179e\"],[0.4444444444444444,\"#bd3786\"],[0.5555555555555556,\"#d8576b\"],[0.6666666666666666,\"#ed7953\"],[0.7777777777777778,\"#fb9f3a\"],[0.8888888888888888,\"#fdca26\"],[1.0,\"#f0f921\"]],\"type\":\"heatmap\"}],\"heatmapgl\":[{\"colorbar\":{\"outlinewidth\":0,\"ticks\":\"\"},\"colorscale\":[[0.0,\"#0d0887\"],[0.1111111111111111,\"#46039f\"],[0.2222222222222222,\"#7201a8\"],[0.3333333333333333,\"#9c179e\"],[0.4444444444444444,\"#bd3786\"],[0.5555555555555556,\"#d8576b\"],[0.6666666666666666,\"#ed7953\"],[0.7777777777777778,\"#fb9f3a\"],[0.8888888888888888,\"#fdca26\"],[1.0,\"#f0f921\"]],\"type\":\"heatmapgl\"}],\"histogram\":[{\"marker\":{\"pattern\":{\"fillmode\":\"overlay\",\"size\":10,\"solidity\":0.2}},\"type\":\"histogram\"}],\"histogram2d\":[{\"colorbar\":{\"outlinewidth\":0,\"ticks\":\"\"},\"colorscale\":[[0.0,\"#0d0887\"],[0.1111111111111111,\"#46039f\"],[0.2222222222222222,\"#7201a8\"],[0.3333333333333333,\"#9c179e\"],[0.4444444444444444,\"#bd3786\"],[0.5555555555555556,\"#d8576b\"],[0.6666666666666666,\"#ed7953\"],[0.7777777777777778,\"#fb9f3a\"],[0.8888888888888888,\"#fdca26\"],[1.0,\"#f0f921\"]],\"type\":\"histogram2d\"}],\"histogram2dcontour\":[{\"colorbar\":{\"outlinewidth\":0,\"ticks\":\"\"},\"colorscale\":[[0.0,\"#0d0887\"],[0.1111111111111111,\"#46039f\"],[0.2222222222222222,\"#7201a8\"],[0.3333333333333333,\"#9c179e\"],[0.4444444444444444,\"#bd3786\"],[0.5555555555555556,\"#d8576b\"],[0.6666666666666666,\"#ed7953\"],[0.7777777777777778,\"#fb9f3a\"],[0.8888888888888888,\"#fdca26\"],[1.0,\"#f0f921\"]],\"type\":\"histogram2dcontour\"}],\"mesh3d\":[{\"colorbar\":{\"outlinewidth\":0,\"ticks\":\"\"},\"type\":\"mesh3d\"}],\"parcoords\":[{\"line\":{\"colorbar\":{\"outlinewidth\":0,\"ticks\":\"\"}},\"type\":\"parcoords\"}],\"pie\":[{\"automargin\":true,\"type\":\"pie\"}],\"scatter\":[{\"marker\":{\"colorbar\":{\"outlinewidth\":0,\"ticks\":\"\"}},\"type\":\"scatter\"}],\"scatter3d\":[{\"line\":{\"colorbar\":{\"outlinewidth\":0,\"ticks\":\"\"}},\"marker\":{\"colorbar\":{\"outlinewidth\":0,\"ticks\":\"\"}},\"type\":\"scatter3d\"}],\"scattercarpet\":[{\"marker\":{\"colorbar\":{\"outlinewidth\":0,\"ticks\":\"\"}},\"type\":\"scattercarpet\"}],\"scattergeo\":[{\"marker\":{\"colorbar\":{\"outlinewidth\":0,\"ticks\":\"\"}},\"type\":\"scattergeo\"}],\"scattergl\":[{\"marker\":{\"colorbar\":{\"outlinewidth\":0,\"ticks\":\"\"}},\"type\":\"scattergl\"}],\"scattermapbox\":[{\"marker\":{\"colorbar\":{\"outlinewidth\":0,\"ticks\":\"\"}},\"type\":\"scattermapbox\"}],\"scatterpolar\":[{\"marker\":{\"colorbar\":{\"outlinewidth\":0,\"ticks\":\"\"}},\"type\":\"scatterpolar\"}],\"scatterpolargl\":[{\"marker\":{\"colorbar\":{\"outlinewidth\":0,\"ticks\":\"\"}},\"type\":\"scatterpolargl\"}],\"scatterternary\":[{\"marker\":{\"colorbar\":{\"outlinewidth\":0,\"ticks\":\"\"}},\"type\":\"scatterternary\"}],\"surface\":[{\"colorbar\":{\"outlinewidth\":0,\"ticks\":\"\"},\"colorscale\":[[0.0,\"#0d0887\"],[0.1111111111111111,\"#46039f\"],[0.2222222222222222,\"#7201a8\"],[0.3333333333333333,\"#9c179e\"],[0.4444444444444444,\"#bd3786\"],[0.5555555555555556,\"#d8576b\"],[0.6666666666666666,\"#ed7953\"],[0.7777777777777778,\"#fb9f3a\"],[0.8888888888888888,\"#fdca26\"],[1.0,\"#f0f921\"]],\"type\":\"surface\"}],\"table\":[{\"cells\":{\"fill\":{\"color\":\"#EBF0F8\"},\"line\":{\"color\":\"white\"}},\"header\":{\"fill\":{\"color\":\"#C8D4E3\"},\"line\":{\"color\":\"white\"}},\"type\":\"table\"}]},\"layout\":{\"annotationdefaults\":{\"arrowcolor\":\"#2a3f5f\",\"arrowhead\":0,\"arrowwidth\":1},\"autotypenumbers\":\"strict\",\"coloraxis\":{\"colorbar\":{\"outlinewidth\":0,\"ticks\":\"\"}},\"colorscale\":{\"diverging\":[[0,\"#8e0152\"],[0.1,\"#c51b7d\"],[0.2,\"#de77ae\"],[0.3,\"#f1b6da\"],[0.4,\"#fde0ef\"],[0.5,\"#f7f7f7\"],[0.6,\"#e6f5d0\"],[0.7,\"#b8e186\"],[0.8,\"#7fbc41\"],[0.9,\"#4d9221\"],[1,\"#276419\"]],\"sequential\":[[0.0,\"#0d0887\"],[0.1111111111111111,\"#46039f\"],[0.2222222222222222,\"#7201a8\"],[0.3333333333333333,\"#9c179e\"],[0.4444444444444444,\"#bd3786\"],[0.5555555555555556,\"#d8576b\"],[0.6666666666666666,\"#ed7953\"],[0.7777777777777778,\"#fb9f3a\"],[0.8888888888888888,\"#fdca26\"],[1.0,\"#f0f921\"]],\"sequentialminus\":[[0.0,\"#0d0887\"],[0.1111111111111111,\"#46039f\"],[0.2222222222222222,\"#7201a8\"],[0.3333333333333333,\"#9c179e\"],[0.4444444444444444,\"#bd3786\"],[0.5555555555555556,\"#d8576b\"],[0.6666666666666666,\"#ed7953\"],[0.7777777777777778,\"#fb9f3a\"],[0.8888888888888888,\"#fdca26\"],[1.0,\"#f0f921\"]]},\"colorway\":[\"#636efa\",\"#EF553B\",\"#00cc96\",\"#ab63fa\",\"#FFA15A\",\"#19d3f3\",\"#FF6692\",\"#B6E880\",\"#FF97FF\",\"#FECB52\"],\"font\":{\"color\":\"#2a3f5f\"},\"geo\":{\"bgcolor\":\"white\",\"lakecolor\":\"white\",\"landcolor\":\"#E5ECF6\",\"showlakes\":true,\"showland\":true,\"subunitcolor\":\"white\"},\"hoverlabel\":{\"align\":\"left\"},\"hovermode\":\"closest\",\"mapbox\":{\"style\":\"light\"},\"paper_bgcolor\":\"white\",\"plot_bgcolor\":\"#E5ECF6\",\"polar\":{\"angularaxis\":{\"gridcolor\":\"white\",\"linecolor\":\"white\",\"ticks\":\"\"},\"bgcolor\":\"#E5ECF6\",\"radialaxis\":{\"gridcolor\":\"white\",\"linecolor\":\"white\",\"ticks\":\"\"}},\"scene\":{\"xaxis\":{\"backgroundcolor\":\"#E5ECF6\",\"gridcolor\":\"white\",\"gridwidth\":2,\"linecolor\":\"white\",\"showbackground\":true,\"ticks\":\"\",\"zerolinecolor\":\"white\"},\"yaxis\":{\"backgroundcolor\":\"#E5ECF6\",\"gridcolor\":\"white\",\"gridwidth\":2,\"linecolor\":\"white\",\"showbackground\":true,\"ticks\":\"\",\"zerolinecolor\":\"white\"},\"zaxis\":{\"backgroundcolor\":\"#E5ECF6\",\"gridcolor\":\"white\",\"gridwidth\":2,\"linecolor\":\"white\",\"showbackground\":true,\"ticks\":\"\",\"zerolinecolor\":\"white\"}},\"shapedefaults\":{\"line\":{\"color\":\"#2a3f5f\"}},\"ternary\":{\"aaxis\":{\"gridcolor\":\"white\",\"linecolor\":\"white\",\"ticks\":\"\"},\"baxis\":{\"gridcolor\":\"white\",\"linecolor\":\"white\",\"ticks\":\"\"},\"bgcolor\":\"#E5ECF6\",\"caxis\":{\"gridcolor\":\"white\",\"linecolor\":\"white\",\"ticks\":\"\"}},\"title\":{\"x\":0.05},\"xaxis\":{\"automargin\":true,\"gridcolor\":\"white\",\"linecolor\":\"white\",\"ticks\":\"\",\"title\":{\"standoff\":15},\"zerolinecolor\":\"white\",\"zerolinewidth\":2},\"yaxis\":{\"automargin\":true,\"gridcolor\":\"white\",\"linecolor\":\"white\",\"ticks\":\"\",\"title\":{\"standoff\":15},\"zerolinecolor\":\"white\",\"zerolinewidth\":2}}},\"xaxis\":{\"anchor\":\"y\",\"domain\":[0.0,1.0],\"title\":{\"text\":\"x\"}},\"yaxis\":{\"anchor\":\"x\",\"domain\":[0.0,1.0],\"title\":{\"text\":\"index\"}},\"coloraxis\":{\"colorbar\":{\"title\":{\"text\":\"color\"}},\"colorscale\":[[0.0,\"#0d0887\"],[0.1111111111111111,\"#46039f\"],[0.2222222222222222,\"#7201a8\"],[0.3333333333333333,\"#9c179e\"],[0.4444444444444444,\"#bd3786\"],[0.5555555555555556,\"#d8576b\"],[0.6666666666666666,\"#ed7953\"],[0.7777777777777778,\"#fb9f3a\"],[0.8888888888888888,\"#fdca26\"],[1.0,\"#f0f921\"]]},\"legend\":{\"tracegroupgap\":0},\"margin\":{\"t\":60}},                        {\"responsive\": true}                    ).then(function(){\n",
              "                            \n",
              "var gd = document.getElementById('a29a1d91-100b-4623-88ec-cd2682a1abd3');\n",
              "var x = new MutationObserver(function (mutations, observer) {{\n",
              "        var display = window.getComputedStyle(gd).display;\n",
              "        if (!display || display === 'none') {{\n",
              "            console.log([gd, 'removed!']);\n",
              "            Plotly.purge(gd);\n",
              "            observer.disconnect();\n",
              "        }}\n",
              "}});\n",
              "\n",
              "// Listen for the removal of the full notebook cells\n",
              "var notebookContainer = gd.closest('#notebook-container');\n",
              "if (notebookContainer) {{\n",
              "    x.observe(notebookContainer, {childList: true});\n",
              "}}\n",
              "\n",
              "// Listen for the clearing of the current output cell\n",
              "var outputEl = gd.closest('.output');\n",
              "if (outputEl) {{\n",
              "    x.observe(outputEl, {childList: true});\n",
              "}}\n",
              "\n",
              "                        })                };                            </script>        </div>\n",
              "</body>\n",
              "</html>"
            ]
          },
          "metadata": {}
        }
      ]
    },
    {
      "cell_type": "code",
      "source": [
        "df.describe()"
      ],
      "metadata": {
        "colab": {
          "base_uri": "https://localhost:8080/",
          "height": 300
        },
        "id": "vt1u124HhAXW",
        "outputId": "34129f19-0305-491c-a72c-c1b73bbc619f"
      },
      "execution_count": 12,
      "outputs": [
        {
          "output_type": "execute_result",
          "data": {
            "text/plain": [
              "          Channel      Region          Fresh          Milk       Grocery  \\\n",
              "count  440.000000  440.000000     440.000000    440.000000    440.000000   \n",
              "mean     1.322727    2.543182   12000.297727   5796.265909   7951.277273   \n",
              "std      0.468052    0.774272   12647.328865   7380.377175   9503.162829   \n",
              "min      1.000000    1.000000       3.000000     55.000000      3.000000   \n",
              "25%      1.000000    2.000000    3127.750000   1533.000000   2153.000000   \n",
              "50%      1.000000    3.000000    8504.000000   3627.000000   4755.500000   \n",
              "75%      2.000000    3.000000   16933.750000   7190.250000  10655.750000   \n",
              "max      2.000000    3.000000  112151.000000  73498.000000  92780.000000   \n",
              "\n",
              "             Frozen  Detergents_Paper    Delicassen  \n",
              "count    440.000000        440.000000    440.000000  \n",
              "mean    3071.931818       2881.493182   1524.870455  \n",
              "std     4854.673333       4767.854448   2820.105937  \n",
              "min       25.000000          3.000000      3.000000  \n",
              "25%      742.250000        256.750000    408.250000  \n",
              "50%     1526.000000        816.500000    965.500000  \n",
              "75%     3554.250000       3922.000000   1820.250000  \n",
              "max    60869.000000      40827.000000  47943.000000  "
            ],
            "text/html": [
              "\n",
              "  <div id=\"df-4637e6d3-0905-45a0-9ff9-9ea63009116a\">\n",
              "    <div class=\"colab-df-container\">\n",
              "      <div>\n",
              "<style scoped>\n",
              "    .dataframe tbody tr th:only-of-type {\n",
              "        vertical-align: middle;\n",
              "    }\n",
              "\n",
              "    .dataframe tbody tr th {\n",
              "        vertical-align: top;\n",
              "    }\n",
              "\n",
              "    .dataframe thead th {\n",
              "        text-align: right;\n",
              "    }\n",
              "</style>\n",
              "<table border=\"1\" class=\"dataframe\">\n",
              "  <thead>\n",
              "    <tr style=\"text-align: right;\">\n",
              "      <th></th>\n",
              "      <th>Channel</th>\n",
              "      <th>Region</th>\n",
              "      <th>Fresh</th>\n",
              "      <th>Milk</th>\n",
              "      <th>Grocery</th>\n",
              "      <th>Frozen</th>\n",
              "      <th>Detergents_Paper</th>\n",
              "      <th>Delicassen</th>\n",
              "    </tr>\n",
              "  </thead>\n",
              "  <tbody>\n",
              "    <tr>\n",
              "      <th>count</th>\n",
              "      <td>440.000000</td>\n",
              "      <td>440.000000</td>\n",
              "      <td>440.000000</td>\n",
              "      <td>440.000000</td>\n",
              "      <td>440.000000</td>\n",
              "      <td>440.000000</td>\n",
              "      <td>440.000000</td>\n",
              "      <td>440.000000</td>\n",
              "    </tr>\n",
              "    <tr>\n",
              "      <th>mean</th>\n",
              "      <td>1.322727</td>\n",
              "      <td>2.543182</td>\n",
              "      <td>12000.297727</td>\n",
              "      <td>5796.265909</td>\n",
              "      <td>7951.277273</td>\n",
              "      <td>3071.931818</td>\n",
              "      <td>2881.493182</td>\n",
              "      <td>1524.870455</td>\n",
              "    </tr>\n",
              "    <tr>\n",
              "      <th>std</th>\n",
              "      <td>0.468052</td>\n",
              "      <td>0.774272</td>\n",
              "      <td>12647.328865</td>\n",
              "      <td>7380.377175</td>\n",
              "      <td>9503.162829</td>\n",
              "      <td>4854.673333</td>\n",
              "      <td>4767.854448</td>\n",
              "      <td>2820.105937</td>\n",
              "    </tr>\n",
              "    <tr>\n",
              "      <th>min</th>\n",
              "      <td>1.000000</td>\n",
              "      <td>1.000000</td>\n",
              "      <td>3.000000</td>\n",
              "      <td>55.000000</td>\n",
              "      <td>3.000000</td>\n",
              "      <td>25.000000</td>\n",
              "      <td>3.000000</td>\n",
              "      <td>3.000000</td>\n",
              "    </tr>\n",
              "    <tr>\n",
              "      <th>25%</th>\n",
              "      <td>1.000000</td>\n",
              "      <td>2.000000</td>\n",
              "      <td>3127.750000</td>\n",
              "      <td>1533.000000</td>\n",
              "      <td>2153.000000</td>\n",
              "      <td>742.250000</td>\n",
              "      <td>256.750000</td>\n",
              "      <td>408.250000</td>\n",
              "    </tr>\n",
              "    <tr>\n",
              "      <th>50%</th>\n",
              "      <td>1.000000</td>\n",
              "      <td>3.000000</td>\n",
              "      <td>8504.000000</td>\n",
              "      <td>3627.000000</td>\n",
              "      <td>4755.500000</td>\n",
              "      <td>1526.000000</td>\n",
              "      <td>816.500000</td>\n",
              "      <td>965.500000</td>\n",
              "    </tr>\n",
              "    <tr>\n",
              "      <th>75%</th>\n",
              "      <td>2.000000</td>\n",
              "      <td>3.000000</td>\n",
              "      <td>16933.750000</td>\n",
              "      <td>7190.250000</td>\n",
              "      <td>10655.750000</td>\n",
              "      <td>3554.250000</td>\n",
              "      <td>3922.000000</td>\n",
              "      <td>1820.250000</td>\n",
              "    </tr>\n",
              "    <tr>\n",
              "      <th>max</th>\n",
              "      <td>2.000000</td>\n",
              "      <td>3.000000</td>\n",
              "      <td>112151.000000</td>\n",
              "      <td>73498.000000</td>\n",
              "      <td>92780.000000</td>\n",
              "      <td>60869.000000</td>\n",
              "      <td>40827.000000</td>\n",
              "      <td>47943.000000</td>\n",
              "    </tr>\n",
              "  </tbody>\n",
              "</table>\n",
              "</div>\n",
              "      <button class=\"colab-df-convert\" onclick=\"convertToInteractive('df-4637e6d3-0905-45a0-9ff9-9ea63009116a')\"\n",
              "              title=\"Convert this dataframe to an interactive table.\"\n",
              "              style=\"display:none;\">\n",
              "        \n",
              "  <svg xmlns=\"http://www.w3.org/2000/svg\" height=\"24px\"viewBox=\"0 0 24 24\"\n",
              "       width=\"24px\">\n",
              "    <path d=\"M0 0h24v24H0V0z\" fill=\"none\"/>\n",
              "    <path d=\"M18.56 5.44l.94 2.06.94-2.06 2.06-.94-2.06-.94-.94-2.06-.94 2.06-2.06.94zm-11 1L8.5 8.5l.94-2.06 2.06-.94-2.06-.94L8.5 2.5l-.94 2.06-2.06.94zm10 10l.94 2.06.94-2.06 2.06-.94-2.06-.94-.94-2.06-.94 2.06-2.06.94z\"/><path d=\"M17.41 7.96l-1.37-1.37c-.4-.4-.92-.59-1.43-.59-.52 0-1.04.2-1.43.59L10.3 9.45l-7.72 7.72c-.78.78-.78 2.05 0 2.83L4 21.41c.39.39.9.59 1.41.59.51 0 1.02-.2 1.41-.59l7.78-7.78 2.81-2.81c.8-.78.8-2.07 0-2.86zM5.41 20L4 18.59l7.72-7.72 1.47 1.35L5.41 20z\"/>\n",
              "  </svg>\n",
              "      </button>\n",
              "      \n",
              "  <style>\n",
              "    .colab-df-container {\n",
              "      display:flex;\n",
              "      flex-wrap:wrap;\n",
              "      gap: 12px;\n",
              "    }\n",
              "\n",
              "    .colab-df-convert {\n",
              "      background-color: #E8F0FE;\n",
              "      border: none;\n",
              "      border-radius: 50%;\n",
              "      cursor: pointer;\n",
              "      display: none;\n",
              "      fill: #1967D2;\n",
              "      height: 32px;\n",
              "      padding: 0 0 0 0;\n",
              "      width: 32px;\n",
              "    }\n",
              "\n",
              "    .colab-df-convert:hover {\n",
              "      background-color: #E2EBFA;\n",
              "      box-shadow: 0px 1px 2px rgba(60, 64, 67, 0.3), 0px 1px 3px 1px rgba(60, 64, 67, 0.15);\n",
              "      fill: #174EA6;\n",
              "    }\n",
              "\n",
              "    [theme=dark] .colab-df-convert {\n",
              "      background-color: #3B4455;\n",
              "      fill: #D2E3FC;\n",
              "    }\n",
              "\n",
              "    [theme=dark] .colab-df-convert:hover {\n",
              "      background-color: #434B5C;\n",
              "      box-shadow: 0px 1px 3px 1px rgba(0, 0, 0, 0.15);\n",
              "      filter: drop-shadow(0px 1px 2px rgba(0, 0, 0, 0.3));\n",
              "      fill: #FFFFFF;\n",
              "    }\n",
              "  </style>\n",
              "\n",
              "      <script>\n",
              "        const buttonEl =\n",
              "          document.querySelector('#df-4637e6d3-0905-45a0-9ff9-9ea63009116a button.colab-df-convert');\n",
              "        buttonEl.style.display =\n",
              "          google.colab.kernel.accessAllowed ? 'block' : 'none';\n",
              "\n",
              "        async function convertToInteractive(key) {\n",
              "          const element = document.querySelector('#df-4637e6d3-0905-45a0-9ff9-9ea63009116a');\n",
              "          const dataTable =\n",
              "            await google.colab.kernel.invokeFunction('convertToInteractive',\n",
              "                                                     [key], {});\n",
              "          if (!dataTable) return;\n",
              "\n",
              "          const docLinkHtml = 'Like what you see? Visit the ' +\n",
              "            '<a target=\"_blank\" href=https://colab.research.google.com/notebooks/data_table.ipynb>data table notebook</a>'\n",
              "            + ' to learn more about interactive tables.';\n",
              "          element.innerHTML = '';\n",
              "          dataTable['output_type'] = 'display_data';\n",
              "          await google.colab.output.renderOutput(dataTable, element);\n",
              "          const docLink = document.createElement('div');\n",
              "          docLink.innerHTML = docLinkHtml;\n",
              "          element.appendChild(docLink);\n",
              "        }\n",
              "      </script>\n",
              "    </div>\n",
              "  </div>\n",
              "  "
            ]
          },
          "metadata": {},
          "execution_count": 12
        }
      ]
    },
    {
      "cell_type": "markdown",
      "source": [
        "##Standardize the data"
      ],
      "metadata": {
        "id": "n1Vj4kgFhF0A"
      }
    },
    {
      "cell_type": "code",
      "source": [
        "scaler = preprocessing.StandardScaler()\n",
        "data_scaled = scaler.fit_transform(df)\n",
        "\n",
        "pd.DataFrame(data_scaled).describe()"
      ],
      "metadata": {
        "colab": {
          "base_uri": "https://localhost:8080/",
          "height": 300
        },
        "id": "2RovjkE7hBo3",
        "outputId": "c2d68da7-49c3-4d80-a56f-a3d258815b8f"
      },
      "execution_count": 16,
      "outputs": [
        {
          "output_type": "execute_result",
          "data": {
            "text/plain": [
              "                  0             1             2           3             4  \\\n",
              "count  4.400000e+02  4.400000e+02  4.400000e+02  440.000000  4.400000e+02   \n",
              "mean   1.614870e-17  3.552714e-16 -3.431598e-17    0.000000 -4.037175e-17   \n",
              "std    1.001138e+00  1.001138e+00  1.001138e+00    1.001138  1.001138e+00   \n",
              "min   -6.902971e-01 -1.995342e+00 -9.496831e-01   -0.778795 -8.373344e-01   \n",
              "25%   -6.902971e-01 -7.023369e-01 -7.023339e-01   -0.578306 -6.108364e-01   \n",
              "50%   -6.902971e-01  5.906683e-01 -2.767602e-01   -0.294258 -3.366684e-01   \n",
              "75%    1.448652e+00  5.906683e-01  3.905226e-01    0.189092  2.849105e-01   \n",
              "max    1.448652e+00  5.906683e-01  7.927738e+00    9.183650  8.936528e+00   \n",
              "\n",
              "                  5             6             7  \n",
              "count  4.400000e+02  4.400000e+02  4.400000e+02  \n",
              "mean   3.633457e-17  2.422305e-17 -8.074349e-18  \n",
              "std    1.001138e+00  1.001138e+00  1.001138e+00  \n",
              "min   -6.283430e-01 -6.044165e-01 -5.402644e-01  \n",
              "25%   -4.804306e-01 -5.511349e-01 -3.964005e-01  \n",
              "50%   -3.188045e-01 -4.336004e-01 -1.985766e-01  \n",
              "75%    9.946441e-02  2.184822e-01  1.048598e-01  \n",
              "max    1.191900e+01  7.967672e+00  1.647845e+01  "
            ],
            "text/html": [
              "\n",
              "  <div id=\"df-e10f7811-4b0c-4ca7-a787-1314115bc945\">\n",
              "    <div class=\"colab-df-container\">\n",
              "      <div>\n",
              "<style scoped>\n",
              "    .dataframe tbody tr th:only-of-type {\n",
              "        vertical-align: middle;\n",
              "    }\n",
              "\n",
              "    .dataframe tbody tr th {\n",
              "        vertical-align: top;\n",
              "    }\n",
              "\n",
              "    .dataframe thead th {\n",
              "        text-align: right;\n",
              "    }\n",
              "</style>\n",
              "<table border=\"1\" class=\"dataframe\">\n",
              "  <thead>\n",
              "    <tr style=\"text-align: right;\">\n",
              "      <th></th>\n",
              "      <th>0</th>\n",
              "      <th>1</th>\n",
              "      <th>2</th>\n",
              "      <th>3</th>\n",
              "      <th>4</th>\n",
              "      <th>5</th>\n",
              "      <th>6</th>\n",
              "      <th>7</th>\n",
              "    </tr>\n",
              "  </thead>\n",
              "  <tbody>\n",
              "    <tr>\n",
              "      <th>count</th>\n",
              "      <td>4.400000e+02</td>\n",
              "      <td>4.400000e+02</td>\n",
              "      <td>4.400000e+02</td>\n",
              "      <td>440.000000</td>\n",
              "      <td>4.400000e+02</td>\n",
              "      <td>4.400000e+02</td>\n",
              "      <td>4.400000e+02</td>\n",
              "      <td>4.400000e+02</td>\n",
              "    </tr>\n",
              "    <tr>\n",
              "      <th>mean</th>\n",
              "      <td>1.614870e-17</td>\n",
              "      <td>3.552714e-16</td>\n",
              "      <td>-3.431598e-17</td>\n",
              "      <td>0.000000</td>\n",
              "      <td>-4.037175e-17</td>\n",
              "      <td>3.633457e-17</td>\n",
              "      <td>2.422305e-17</td>\n",
              "      <td>-8.074349e-18</td>\n",
              "    </tr>\n",
              "    <tr>\n",
              "      <th>std</th>\n",
              "      <td>1.001138e+00</td>\n",
              "      <td>1.001138e+00</td>\n",
              "      <td>1.001138e+00</td>\n",
              "      <td>1.001138</td>\n",
              "      <td>1.001138e+00</td>\n",
              "      <td>1.001138e+00</td>\n",
              "      <td>1.001138e+00</td>\n",
              "      <td>1.001138e+00</td>\n",
              "    </tr>\n",
              "    <tr>\n",
              "      <th>min</th>\n",
              "      <td>-6.902971e-01</td>\n",
              "      <td>-1.995342e+00</td>\n",
              "      <td>-9.496831e-01</td>\n",
              "      <td>-0.778795</td>\n",
              "      <td>-8.373344e-01</td>\n",
              "      <td>-6.283430e-01</td>\n",
              "      <td>-6.044165e-01</td>\n",
              "      <td>-5.402644e-01</td>\n",
              "    </tr>\n",
              "    <tr>\n",
              "      <th>25%</th>\n",
              "      <td>-6.902971e-01</td>\n",
              "      <td>-7.023369e-01</td>\n",
              "      <td>-7.023339e-01</td>\n",
              "      <td>-0.578306</td>\n",
              "      <td>-6.108364e-01</td>\n",
              "      <td>-4.804306e-01</td>\n",
              "      <td>-5.511349e-01</td>\n",
              "      <td>-3.964005e-01</td>\n",
              "    </tr>\n",
              "    <tr>\n",
              "      <th>50%</th>\n",
              "      <td>-6.902971e-01</td>\n",
              "      <td>5.906683e-01</td>\n",
              "      <td>-2.767602e-01</td>\n",
              "      <td>-0.294258</td>\n",
              "      <td>-3.366684e-01</td>\n",
              "      <td>-3.188045e-01</td>\n",
              "      <td>-4.336004e-01</td>\n",
              "      <td>-1.985766e-01</td>\n",
              "    </tr>\n",
              "    <tr>\n",
              "      <th>75%</th>\n",
              "      <td>1.448652e+00</td>\n",
              "      <td>5.906683e-01</td>\n",
              "      <td>3.905226e-01</td>\n",
              "      <td>0.189092</td>\n",
              "      <td>2.849105e-01</td>\n",
              "      <td>9.946441e-02</td>\n",
              "      <td>2.184822e-01</td>\n",
              "      <td>1.048598e-01</td>\n",
              "    </tr>\n",
              "    <tr>\n",
              "      <th>max</th>\n",
              "      <td>1.448652e+00</td>\n",
              "      <td>5.906683e-01</td>\n",
              "      <td>7.927738e+00</td>\n",
              "      <td>9.183650</td>\n",
              "      <td>8.936528e+00</td>\n",
              "      <td>1.191900e+01</td>\n",
              "      <td>7.967672e+00</td>\n",
              "      <td>1.647845e+01</td>\n",
              "    </tr>\n",
              "  </tbody>\n",
              "</table>\n",
              "</div>\n",
              "      <button class=\"colab-df-convert\" onclick=\"convertToInteractive('df-e10f7811-4b0c-4ca7-a787-1314115bc945')\"\n",
              "              title=\"Convert this dataframe to an interactive table.\"\n",
              "              style=\"display:none;\">\n",
              "        \n",
              "  <svg xmlns=\"http://www.w3.org/2000/svg\" height=\"24px\"viewBox=\"0 0 24 24\"\n",
              "       width=\"24px\">\n",
              "    <path d=\"M0 0h24v24H0V0z\" fill=\"none\"/>\n",
              "    <path d=\"M18.56 5.44l.94 2.06.94-2.06 2.06-.94-2.06-.94-.94-2.06-.94 2.06-2.06.94zm-11 1L8.5 8.5l.94-2.06 2.06-.94-2.06-.94L8.5 2.5l-.94 2.06-2.06.94zm10 10l.94 2.06.94-2.06 2.06-.94-2.06-.94-.94-2.06-.94 2.06-2.06.94z\"/><path d=\"M17.41 7.96l-1.37-1.37c-.4-.4-.92-.59-1.43-.59-.52 0-1.04.2-1.43.59L10.3 9.45l-7.72 7.72c-.78.78-.78 2.05 0 2.83L4 21.41c.39.39.9.59 1.41.59.51 0 1.02-.2 1.41-.59l7.78-7.78 2.81-2.81c.8-.78.8-2.07 0-2.86zM5.41 20L4 18.59l7.72-7.72 1.47 1.35L5.41 20z\"/>\n",
              "  </svg>\n",
              "      </button>\n",
              "      \n",
              "  <style>\n",
              "    .colab-df-container {\n",
              "      display:flex;\n",
              "      flex-wrap:wrap;\n",
              "      gap: 12px;\n",
              "    }\n",
              "\n",
              "    .colab-df-convert {\n",
              "      background-color: #E8F0FE;\n",
              "      border: none;\n",
              "      border-radius: 50%;\n",
              "      cursor: pointer;\n",
              "      display: none;\n",
              "      fill: #1967D2;\n",
              "      height: 32px;\n",
              "      padding: 0 0 0 0;\n",
              "      width: 32px;\n",
              "    }\n",
              "\n",
              "    .colab-df-convert:hover {\n",
              "      background-color: #E2EBFA;\n",
              "      box-shadow: 0px 1px 2px rgba(60, 64, 67, 0.3), 0px 1px 3px 1px rgba(60, 64, 67, 0.15);\n",
              "      fill: #174EA6;\n",
              "    }\n",
              "\n",
              "    [theme=dark] .colab-df-convert {\n",
              "      background-color: #3B4455;\n",
              "      fill: #D2E3FC;\n",
              "    }\n",
              "\n",
              "    [theme=dark] .colab-df-convert:hover {\n",
              "      background-color: #434B5C;\n",
              "      box-shadow: 0px 1px 3px 1px rgba(0, 0, 0, 0.15);\n",
              "      filter: drop-shadow(0px 1px 2px rgba(0, 0, 0, 0.3));\n",
              "      fill: #FFFFFF;\n",
              "    }\n",
              "  </style>\n",
              "\n",
              "      <script>\n",
              "        const buttonEl =\n",
              "          document.querySelector('#df-e10f7811-4b0c-4ca7-a787-1314115bc945 button.colab-df-convert');\n",
              "        buttonEl.style.display =\n",
              "          google.colab.kernel.accessAllowed ? 'block' : 'none';\n",
              "\n",
              "        async function convertToInteractive(key) {\n",
              "          const element = document.querySelector('#df-e10f7811-4b0c-4ca7-a787-1314115bc945');\n",
              "          const dataTable =\n",
              "            await google.colab.kernel.invokeFunction('convertToInteractive',\n",
              "                                                     [key], {});\n",
              "          if (!dataTable) return;\n",
              "\n",
              "          const docLinkHtml = 'Like what you see? Visit the ' +\n",
              "            '<a target=\"_blank\" href=https://colab.research.google.com/notebooks/data_table.ipynb>data table notebook</a>'\n",
              "            + ' to learn more about interactive tables.';\n",
              "          element.innerHTML = '';\n",
              "          dataTable['output_type'] = 'display_data';\n",
              "          await google.colab.output.renderOutput(dataTable, element);\n",
              "          const docLink = document.createElement('div');\n",
              "          docLink.innerHTML = docLinkHtml;\n",
              "          element.appendChild(docLink);\n",
              "        }\n",
              "      </script>\n",
              "    </div>\n",
              "  </div>\n",
              "  "
            ]
          },
          "metadata": {},
          "execution_count": 16
        }
      ]
    },
    {
      "cell_type": "markdown",
      "source": [
        "##Fit Data"
      ],
      "metadata": {
        "id": "mVbAP7rDhMcv"
      }
    },
    {
      "cell_type": "code",
      "source": [
        "kmeans = cluster.KMeans(n_clusters=2, init='k-means++') # ‘k-means++’ : selects initial cluster centers for k-mean clustering in a smart way to speed up convergence.\n",
        "kmeans.fit(data_scaled)"
      ],
      "metadata": {
        "colab": {
          "base_uri": "https://localhost:8080/"
        },
        "id": "fwNXsKhfhOFP",
        "outputId": "3b0ac163-a3e0-425e-9eb4-3f26a9fba9e7"
      },
      "execution_count": 17,
      "outputs": [
        {
          "output_type": "execute_result",
          "data": {
            "text/plain": [
              "KMeans(n_clusters=2)"
            ]
          },
          "metadata": {},
          "execution_count": 17
        }
      ]
    },
    {
      "cell_type": "code",
      "source": [
        "kmeans = cluster.KMeans(n_clusters=5, init='k-means++')\n",
        "kmeans.fit(data_scaled)\n",
        "pred = kmeans.predict(data_scaled)\n",
        "pred"
      ],
      "metadata": {
        "colab": {
          "base_uri": "https://localhost:8080/"
        },
        "id": "WavznVUHicVH",
        "outputId": "e8e5cbb7-31dc-4fcd-b50c-cd978997b32b"
      },
      "execution_count": 20,
      "outputs": [
        {
          "output_type": "execute_result",
          "data": {
            "text/plain": [
              "array([2, 2, 2, 3, 2, 2, 2, 2, 3, 2, 2, 2, 2, 2, 2, 3, 2, 3, 2, 3, 2, 3,\n",
              "       3, 2, 2, 2, 3, 3, 2, 3, 3, 3, 3, 3, 3, 2, 3, 2, 2, 3, 3, 3, 2, 2,\n",
              "       2, 2, 2, 1, 2, 2, 3, 3, 2, 2, 3, 3, 1, 2, 3, 3, 2, 1, 2, 2, 3, 1,\n",
              "       3, 2, 3, 3, 3, 3, 3, 2, 2, 3, 3, 2, 3, 3, 3, 2, 2, 3, 2, 1, 1, 3,\n",
              "       3, 3, 3, 3, 1, 3, 2, 3, 2, 3, 3, 3, 2, 2, 2, 3, 3, 3, 2, 2, 2, 2,\n",
              "       3, 2, 3, 3, 3, 3, 3, 3, 3, 3, 3, 3, 3, 2, 3, 3, 3, 2, 3, 3, 3, 3,\n",
              "       3, 3, 3, 3, 3, 3, 3, 3, 3, 3, 3, 3, 3, 2, 3, 3, 3, 3, 3, 3, 3, 3,\n",
              "       3, 2, 2, 3, 2, 2, 2, 3, 3, 2, 2, 2, 2, 3, 3, 3, 2, 2, 3, 2, 3, 2,\n",
              "       3, 3, 3, 3, 3, 4, 3, 4, 3, 3, 3, 3, 2, 2, 3, 3, 3, 2, 3, 3, 0, 2,\n",
              "       0, 0, 2, 2, 0, 0, 0, 2, 0, 0, 0, 2, 0, 1, 0, 0, 2, 0, 2, 0, 2, 0,\n",
              "       0, 0, 0, 0, 0, 0, 0, 0, 0, 0, 0, 0, 0, 0, 0, 0, 0, 0, 0, 0, 0, 0,\n",
              "       0, 0, 0, 2, 0, 0, 0, 0, 0, 1, 0, 0, 0, 0, 0, 0, 0, 0, 0, 0, 0, 0,\n",
              "       2, 0, 2, 0, 2, 0, 0, 0, 0, 3, 3, 3, 3, 3, 3, 2, 3, 2, 3, 3, 3, 3,\n",
              "       3, 3, 3, 3, 3, 3, 3, 2, 0, 2, 0, 2, 2, 0, 2, 2, 2, 2, 2, 2, 2, 0,\n",
              "       0, 2, 0, 0, 2, 0, 0, 2, 0, 0, 0, 2, 0, 0, 0, 0, 0, 4, 0, 0, 0, 0,\n",
              "       0, 2, 0, 1, 0, 2, 0, 0, 0, 0, 2, 2, 3, 2, 3, 3, 2, 2, 3, 2, 3, 2,\n",
              "       3, 2, 3, 3, 3, 2, 3, 3, 3, 3, 3, 3, 3, 2, 3, 3, 3, 3, 3, 3, 3, 2,\n",
              "       3, 3, 2, 3, 3, 2, 3, 3, 3, 3, 3, 3, 3, 3, 3, 3, 3, 3, 3, 3, 3, 3,\n",
              "       2, 3, 3, 3, 3, 3, 3, 3, 3, 3, 3, 2, 2, 3, 3, 3, 3, 3, 3, 2, 2, 3,\n",
              "       2, 3, 3, 2, 3, 2, 2, 3, 3, 3, 3, 3, 3, 3, 3, 3, 3, 3, 3, 2, 3, 3],\n",
              "      dtype=int32)"
            ]
          },
          "metadata": {},
          "execution_count": 20
        }
      ]
    },
    {
      "cell_type": "markdown",
      "source": [
        "##elbow method"
      ],
      "metadata": {
        "id": "npCoSebKhO9u"
      }
    },
    {
      "cell_type": "code",
      "source": [
        "SSE = []\n",
        "for i in range(1,20):\n",
        "    kmeans = cluster.KMeans(n_clusters = i, init='k-means++') # iterate from range (1, 20)\n",
        "    kmeans.fit(data_scaled)\n",
        "    SSE.append(kmeans.inertia_)\n",
        "\n",
        "# converting the results into a dataframe and plotting them\n",
        "frame = pd.DataFrame({'Cluster':range(1,20), 'SSE':SSE})\n",
        "plt.figure(figsize=(12,6))\n",
        "plt.plot(frame['Cluster'], frame['SSE'], marker=\"*\")\n",
        "plt.xlabel('Number of clusters')\n",
        "plt.ylabel('Inertia')"
      ],
      "metadata": {
        "colab": {
          "base_uri": "https://localhost:8080/",
          "height": 406
        },
        "id": "wRR-xbVUhPPS",
        "outputId": "79ae8ce1-cc82-4abc-e8ae-01ee74f05a2c"
      },
      "execution_count": 18,
      "outputs": [
        {
          "output_type": "execute_result",
          "data": {
            "text/plain": [
              "Text(0, 0.5, 'Inertia')"
            ]
          },
          "metadata": {},
          "execution_count": 18
        },
        {
          "output_type": "display_data",
          "data": {
            "text/plain": [
              "<Figure size 864x432 with 1 Axes>"
            ],
            "image/png": "[encoded data removed]"
          },
          "metadata": {
            "needs_background": "light"
          }
        }
      ]
    },
    {
      "cell_type": "markdown",
      "source": [
        "##counts in each cluster"
      ],
      "metadata": {
        "id": "lxhqOYCxhgdR"
      }
    },
    {
      "cell_type": "code",
      "source": [
        "frame = pd.DataFrame(data_scaled)\n",
        "frame['cluster'] = pred\n",
        "frame['cluster'].value_counts()"
      ],
      "metadata": {
        "colab": {
          "base_uri": "https://localhost:8080/"
        },
        "id": "h_r7DMeRhiHb",
        "outputId": "be17759f-b270-4495-84ae-8bc9edc04fc1"
      },
      "execution_count": 21,
      "outputs": [
        {
          "output_type": "execute_result",
          "data": {
            "text/plain": [
              "3    210\n",
              "2    126\n",
              "0     91\n",
              "1     10\n",
              "4      3\n",
              "Name: cluster, dtype: int64"
            ]
          },
          "metadata": {},
          "execution_count": 21
        }
      ]
    },
    {
      "cell_type": "markdown",
      "source": [
        "##3d scatter plot for each cluster"
      ],
      "metadata": {
        "id": "zGmv9EtIh5z2"
      }
    },
    {
      "cell_type": "code",
      "source": [
        "dataset = df.copy()\n",
        "dataset[\"cluster\"] = pred"
      ],
      "metadata": {
        "id": "eLkc2vJAipu-"
      },
      "execution_count": 24,
      "outputs": []
    },
    {
      "cell_type": "code",
      "source": [
        "fig = px.scatter_3d(dataset, x=\"Grocery\", y=\"Milk\", z=\"Fresh\", color='cluster', size=\"Fresh\", size_max=30)\n",
        "fig.show()"
      ],
      "metadata": {
        "colab": {
          "base_uri": "https://localhost:8080/",
          "height": 542
        },
        "id": "8pc42ajkh711",
        "outputId": "a66c655b-adf9-4770-abb2-3e95e3d5eabf"
      },
      "execution_count": 26,
      "outputs": [
        {
          "output_type": "display_data",
          "data": {
            "text/html": [
              "<html>\n",
              "<head><meta charset=\"utf-8\" /></head>\n",
              "<body>\n",
              "    <div>            <script src=\"https://cdnjs.cloudflare.com/ajax/libs/mathjax/2.7.5/MathJax.js?config=TeX-AMS-MML_SVG\"></script><script type=\"text/javascript\">if (window.MathJax) {MathJax.Hub.Config({SVG: {font: \"STIX-Web\"}});}</script>                <script type=\"text/javascript\">window.PlotlyConfig = {MathJaxConfig: 'local'};</script>\n",
              "        <script src=\"https://cdn.plot.ly/plotly-2.8.3.min.js\"></script>                <div id=\"6a09a6a5-fc5d-4f1b-96af-6a614d4d2bf0\" class=\"plotly-graph-div\" style=\"height:525px; width:100%;\"></div>            <script type=\"text/javascript\">                                    window.PLOTLYENV=window.PLOTLYENV || {};                                    if (document.getElementById(\"6a09a6a5-fc5d-4f1b-96af-6a614d4d2bf0\")) {                    Plotly.newPlot(                        \"6a09a6a5-fc5d-4f1b-96af-6a614d4d2bf0\",                        [{\"hovertemplate\":\"Grocery=%{x}<br>Milk=%{y}<br>Fresh=%{marker.size}<br>cluster=%{marker.color}<extra></extra>\",\"legendgroup\":\"\",\"marker\":{\"color\":[2,2,2,3,2,2,2,2,3,2,2,2,2,2,2,3,2,3,2,3,2,3,3,2,2,2,3,3,2,3,3,3,3,3,3,2,3,2,2,3,3,3,2,2,2,2,2,1,2,2,3,3,2,2,3,3,1,2,3,3,2,1,2,2,3,1,3,2,3,3,3,3,3,2,2,3,3,2,3,3,3,2,2,3,2,1,1,3,3,3,3,3,1,3,2,3,2,3,3,3,2,2,2,3,3,3,2,2,2,2,3,2,3,3,3,3,3,3,3,3,3,3,3,2,3,3,3,2,3,3,3,3,3,3,3,3,3,3,3,3,3,3,3,3,3,2,3,3,3,3,3,3,3,3,3,2,2,3,2,2,2,3,3,2,2,2,2,3,3,3,2,2,3,2,3,2,3,3,3,3,3,4,3,4,3,3,3,3,2,2,3,3,3,2,3,3,0,2,0,0,2,2,0,0,0,2,0,0,0,2,0,1,0,0,2,0,2,0,2,0,0,0,0,0,0,0,0,0,0,0,0,0,0,0,0,0,0,0,0,0,0,0,0,0,0,2,0,0,0,0,0,1,0,0,0,0,0,0,0,0,0,0,0,0,2,0,2,0,2,0,0,0,0,3,3,3,3,3,3,2,3,2,3,3,3,3,3,3,3,3,3,3,3,2,0,2,0,2,2,0,2,2,2,2,2,2,2,0,0,2,0,0,2,0,0,2,0,0,0,2,0,0,0,0,0,4,0,0,0,0,0,2,0,1,0,2,0,0,0,0,2,2,3,2,3,3,2,2,3,2,3,2,3,2,3,3,3,2,3,3,3,3,3,3,3,2,3,3,3,3,3,3,3,2,3,3,2,3,3,2,3,3,3,3,3,3,3,3,3,3,3,3,3,3,3,3,2,3,3,3,3,3,3,3,3,3,3,2,2,3,3,3,3,3,3,2,2,3,2,3,3,2,3,2,2,3,3,3,3,3,3,3,3,3,3,3,3,2,3,3],\"coloraxis\":\"coloraxis\",\"size\":[12669,7057,6353,13265,22615,9413,12126,7579,5963,6006,3366,13146,31714,21217,24653,10253,1020,5876,18601,7780,17546,5567,31276,26373,22647,16165,9898,14276,4113,43088,18815,2612,21632,29729,1502,688,29955,15168,4591,56159,24025,19176,10850,630,9670,5181,3103,44466,11519,4967,6269,3347,40721,491,27329,5264,4098,5417,13779,6137,8590,35942,7823,9396,4760,85,9,19913,2446,8352,16705,18291,4420,19899,8190,20398,717,12205,10766,1640,7005,219,10362,20874,11867,16117,22925,43265,7864,24904,11405,12754,9198,11314,5626,3,23,403,503,9658,11594,1420,2932,56082,14100,15587,1454,8797,1531,1406,11818,12579,19046,14438,18044,11134,11173,6990,20049,8258,17160,4020,12212,11170,36050,76237,19219,21465,140,42312,7149,2101,14903,9434,7388,6300,4625,3087,13537,5387,17623,30379,37036,10405,18827,22039,7769,9203,5924,31812,16225,1289,18840,3463,622,1989,3830,17773,2861,355,1725,12434,15177,5531,5224,15615,4822,2926,5809,5414,260,200,955,514,286,2343,45640,12759,11002,3157,12356,112151,694,36847,327,8170,3009,2438,8040,834,16936,13624,5509,180,7107,17023,30624,2427,11686,9670,3067,4484,25203,583,1956,1107,6373,2541,1537,5550,18567,12119,7291,3317,2362,2806,2532,18044,18,4155,14755,5396,5041,2790,7274,12680,20782,4042,1869,8656,11072,2344,25962,964,15603,1838,8635,18692,7363,47493,22096,24929,18226,11210,6202,3062,8885,13569,15671,8040,3191,6134,6623,29526,10379,31614,11092,8475,56083,53205,9193,7858,23257,2153,1073,5909,572,20893,11908,15218,4720,2083,514,36817,894,680,27901,9061,11693,17360,3366,12238,49063,25767,68951,40254,7149,15354,16260,42786,2708,6022,2838,3996,21273,7588,19087,8090,6758,444,16448,5283,2886,2599,161,243,6468,17327,6987,918,7034,29635,2137,9784,10617,1479,7127,1182,11800,9759,1774,9155,15881,13360,25977,32717,4414,542,16933,5113,9790,11223,22321,8565,16823,27082,13970,9351,3,2617,381,2320,255,1689,3043,1198,2771,27380,3428,5981,3521,1210,608,117,14039,190,22686,37,759,796,19746,4734,2121,4627,2615,4692,9561,3477,22335,6211,39679,20105,3884,15076,6338,5841,3136,38793,3225,4048,28257,17770,34454,1821,10683,11635,1206,20918,9785,9385,3352,2647,518,23632,12377,9602,4515,11535,11442,9612,4446,27167,26539,25606,18073,6884,25066,7362,8257,8708,6633,2126,97,4983,5969,7842,4389,5065,660,8861,4456,17063,26400,17565,16980,11243,13134,31012,3047,8607,3097,8533,21117,1982,16731,29703,39228,14531,10290,2787],\"sizemode\":\"area\",\"sizeref\":124.61222222222223,\"symbol\":\"circle\"},\"mode\":\"markers\",\"name\":\"\",\"scene\":\"scene\",\"showlegend\":false,\"x\":[7561,9568,7684,4221,7198,5126,6975,9426,6192,18881,12974,4523,11757,14982,12091,3821,12121,2933,10099,9464,4602,2010,4469,22019,13792,7595,2861,3045,25957,2609,11107,3133,2886,7326,2262,11091,5428,12477,16709,902,4757,5956,14961,23998,10471,21531,21955,55571,10868,28921,1980,6996,5876,11532,1947,5005,26866,10487,1648,8040,7854,59598,6544,15775,3250,45828,7417,13462,3993,1293,3202,21042,2661,8713,9794,3,6532,28540,2067,3655,3009,14403,11009,1783,4814,92780,32114,8117,4042,5330,1638,2530,32034,2062,11323,6252,8118,610,778,1909,12144,16267,7677,8906,3445,3970,10704,14886,6981,28986,1694,17569,2469,1733,2000,2988,3355,5380,2362,2147,3412,1498,245,8814,2961,7102,1658,10685,3823,1510,699,314,2479,1235,2174,2591,7030,8282,5034,3343,7305,5189,8253,1096,1988,34792,2177,2707,542,1651,1765,2022,3135,2368,137,19460,14855,2474,9618,14682,12822,283,3810,26870,8584,19858,9170,3268,803,2155,13430,19816,6536,19805,5241,11874,6536,4533,4945,2500,8887,18148,10518,20170,4710,1139,854,9819,11687,11522,1981,1381,2251,20292,2974,5230,4897,10391,6824,2112,23127,24708,9490,2216,5226,23596,950,6089,5838,16767,1393,39694,2062,6861,11364,15538,36486,2046,15205,1390,1382,10646,2856,5265,1499,4157,9212,1563,572,2501,5615,3828,3838,3316,3833,2824,3047,593,585,3779,7041,2475,2914,5119,10817,13916,1777,489,2406,2070,1799,33586,4740,16966,4748,1495,5249,1883,2124,7336,2157,1094,1677,6684,15445,13699,22182,2576,19847,1138,975,1563,6869,1493,1841,223,6964,683,2543,9694,2431,6235,4252,2013,12609,3600,1242,2828,1296,471,2642,3261,4329,12469,6550,5234,3643,6986,9965,2060,6360,20399,9785,13829,24773,8852,21570,2842,3007,13567,2405,8280,19172,2405,7647,11924,2201,6114,3558,17645,2280,5167,3315,11593,2464,13626,1431,1664,3389,4583,5109,26839,1447,67298,2743,10790,1330,2611,7021,5332,9670,11238,5923,26316,1763,8335,15541,12311,2028,20521,1997,22294,1533,21203,2548,2012,218,22272,1660,2109,2006,864,2453,4438,1524,8025,1664,534,2406,683,4955,1939,1641,7398,1668,1162,13586,2648,1902,10391,2146,1617,8469,3450,15400,1614,2857,1573,1172,1422,1328,2313,3600,3842,3204,1263,9345,1428,582,935,1238,2128,5091,4604,3444,1167,5026,18683,6407,6100,4563,3281,12400,6633,3417,8552,10908,11055,18622,2223,13227,9053,4172,4657,12232,2593,14316,5429,4910,3580,16483,5160,4754,1493,7994,16027,764,30243,2232,2510],\"y\":[9656,9810,8808,1196,5410,8259,3199,4956,3648,11093,5403,1124,12319,6208,9465,1114,8816,6157,6327,2495,4519,871,1917,36423,9776,4230,961,803,20484,2100,3610,4339,1318,4786,1979,5491,4362,10556,15729,555,4332,3065,7555,11095,7027,22044,14069,54259,6152,21412,1095,4051,3916,10473,1449,3683,29892,9933,1970,5360,3045,38369,6245,11601,1227,20959,1534,6759,7260,2820,2037,1266,5139,5332,6343,1137,3587,12697,1175,3259,829,9540,9232,1563,3327,46197,73498,5025,542,3836,596,2762,27472,3090,12220,2920,2616,254,112,2182,7779,10810,6459,3504,2132,1014,6337,10646,8397,16729,1648,11114,2770,2295,1080,793,2521,3880,1891,2344,1200,3234,201,10769,1642,3473,1840,7243,8847,926,2428,589,2032,1042,1882,1289,8579,8080,4257,4979,4280,13252,7152,1596,3677,8384,1936,3373,584,1433,1825,3328,1371,9250,55,10690,5291,1366,6570,7704,3651,540,2024,15726,7603,12653,6721,3195,735,717,8675,25862,5479,7677,1208,7845,6958,7330,7075,4888,6036,29627,8533,43950,918,6448,521,8002,7639,11577,6250,295,1461,3485,1012,5139,7209,7097,2154,2280,13240,14399,11487,685,891,11711,780,4737,3748,12729,1895,28326,1012,6602,6551,10765,16599,1475,7504,367,899,7503,1115,2527,659,3243,5921,2204,577,2746,5989,10678,1780,4984,2703,6380,820,3838,475,2567,3575,1801,659,3576,7775,6154,2428,346,5279,3795,1993,23133,1860,7961,17972,489,5008,1931,4563,4959,4885,1110,1372,1115,9679,23527,9763,1222,8053,258,1032,5007,8323,3045,1703,1610,3749,829,2317,6200,2884,7108,3965,3613,4411,640,2247,2102,594,286,2160,3354,3086,11103,2013,1897,1304,3199,4560,879,6243,13316,5302,3688,7460,12939,12867,2374,1020,20655,1492,2335,3737,925,1795,14982,1375,3088,2713,25071,3696,1897,713,944,3587,16784,1610,899,2209,1486,1786,14881,3216,4980,928,6817,1511,1347,333,1188,4025,5763,5758,6964,1172,2602,6939,7184,2380,14641,1099,10044,1106,6264,7393,727,134,1275,18664,5878,2872,607,1601,997,873,6128,2217,894,1196,337,3944,1887,3801,6257,2256,1450,8630,3154,3294,5164,944,4591,7435,1364,21858,922,3620,1916,848,1530,1181,2761,4180,6730,865,1316,11991,1666,1032,577,906,2801,4753,11006,4613,1046,5010,12844,3880,3634,2096,3289,3605,4859,1990,6046,10940,5499,8494,3783,5266,4847,1377,3686,2884,2408,9347,16687,5970,1750,4230,5506,1162,3218,3922,12051,1431,15488,1981,1698],\"z\":[12669,7057,6353,13265,22615,9413,12126,7579,5963,6006,3366,13146,31714,21217,24653,10253,1020,5876,18601,7780,17546,5567,31276,26373,22647,16165,9898,14276,4113,43088,18815,2612,21632,29729,1502,688,29955,15168,4591,56159,24025,19176,10850,630,9670,5181,3103,44466,11519,4967,6269,3347,40721,491,27329,5264,4098,5417,13779,6137,8590,35942,7823,9396,4760,85,9,19913,2446,8352,16705,18291,4420,19899,8190,20398,717,12205,10766,1640,7005,219,10362,20874,11867,16117,22925,43265,7864,24904,11405,12754,9198,11314,5626,3,23,403,503,9658,11594,1420,2932,56082,14100,15587,1454,8797,1531,1406,11818,12579,19046,14438,18044,11134,11173,6990,20049,8258,17160,4020,12212,11170,36050,76237,19219,21465,140,42312,7149,2101,14903,9434,7388,6300,4625,3087,13537,5387,17623,30379,37036,10405,18827,22039,7769,9203,5924,31812,16225,1289,18840,3463,622,1989,3830,17773,2861,355,1725,12434,15177,5531,5224,15615,4822,2926,5809,5414,260,200,955,514,286,2343,45640,12759,11002,3157,12356,112151,694,36847,327,8170,3009,2438,8040,834,16936,13624,5509,180,7107,17023,30624,2427,11686,9670,3067,4484,25203,583,1956,1107,6373,2541,1537,5550,18567,12119,7291,3317,2362,2806,2532,18044,18,4155,14755,5396,5041,2790,7274,12680,20782,4042,1869,8656,11072,2344,25962,964,15603,1838,8635,18692,7363,47493,22096,24929,18226,11210,6202,3062,8885,13569,15671,8040,3191,6134,6623,29526,10379,31614,11092,8475,56083,53205,9193,7858,23257,2153,1073,5909,572,20893,11908,15218,4720,2083,514,36817,894,680,27901,9061,11693,17360,3366,12238,49063,25767,68951,40254,7149,15354,16260,42786,2708,6022,2838,3996,21273,7588,19087,8090,6758,444,16448,5283,2886,2599,161,243,6468,17327,6987,918,7034,29635,2137,9784,10617,1479,7127,1182,11800,9759,1774,9155,15881,13360,25977,32717,4414,542,16933,5113,9790,11223,22321,8565,16823,27082,13970,9351,3,2617,381,2320,255,1689,3043,1198,2771,27380,3428,5981,3521,1210,608,117,14039,190,22686,37,759,796,19746,4734,2121,4627,2615,4692,9561,3477,22335,6211,39679,20105,3884,15076,6338,5841,3136,38793,3225,4048,28257,17770,34454,1821,10683,11635,1206,20918,9785,9385,3352,2647,518,23632,12377,9602,4515,11535,11442,9612,4446,27167,26539,25606,18073,6884,25066,7362,8257,8708,6633,2126,97,4983,5969,7842,4389,5065,660,8861,4456,17063,26400,17565,16980,11243,13134,31012,3047,8607,3097,8533,21117,1982,16731,29703,39228,14531,10290,2787],\"type\":\"scatter3d\"}],                        {\"template\":{\"data\":{\"bar\":[{\"error_x\":{\"color\":\"#2a3f5f\"},\"error_y\":{\"color\":\"#2a3f5f\"},\"marker\":{\"line\":{\"color\":\"#E5ECF6\",\"width\":0.5},\"pattern\":{\"fillmode\":\"overlay\",\"size\":10,\"solidity\":0.2}},\"type\":\"bar\"}],\"barpolar\":[{\"marker\":{\"line\":{\"color\":\"#E5ECF6\",\"width\":0.5},\"pattern\":{\"fillmode\":\"overlay\",\"size\":10,\"solidity\":0.2}},\"type\":\"barpolar\"}],\"carpet\":[{\"aaxis\":{\"endlinecolor\":\"#2a3f5f\",\"gridcolor\":\"white\",\"linecolor\":\"white\",\"minorgridcolor\":\"white\",\"startlinecolor\":\"#2a3f5f\"},\"baxis\":{\"endlinecolor\":\"#2a3f5f\",\"gridcolor\":\"white\",\"linecolor\":\"white\",\"minorgridcolor\":\"white\",\"startlinecolor\":\"#2a3f5f\"},\"type\":\"carpet\"}],\"choropleth\":[{\"colorbar\":{\"outlinewidth\":0,\"ticks\":\"\"},\"type\":\"choropleth\"}],\"contour\":[{\"colorbar\":{\"outlinewidth\":0,\"ticks\":\"\"},\"colorscale\":[[0.0,\"#0d0887\"],[0.1111111111111111,\"#46039f\"],[0.2222222222222222,\"#7201a8\"],[0.3333333333333333,\"#9c179e\"],[0.4444444444444444,\"#bd3786\"],[0.5555555555555556,\"#d8576b\"],[0.6666666666666666,\"#ed7953\"],[0.7777777777777778,\"#fb9f3a\"],[0.8888888888888888,\"#fdca26\"],[1.0,\"#f0f921\"]],\"type\":\"contour\"}],\"contourcarpet\":[{\"colorbar\":{\"outlinewidth\":0,\"ticks\":\"\"},\"type\":\"contourcarpet\"}],\"heatmap\":[{\"colorbar\":{\"outlinewidth\":0,\"ticks\":\"\"},\"colorscale\":[[0.0,\"#0d0887\"],[0.1111111111111111,\"#46039f\"],[0.2222222222222222,\"#7201a8\"],[0.3333333333333333,\"#9c179e\"],[0.4444444444444444,\"#bd3786\"],[0.5555555555555556,\"#d8576b\"],[0.6666666666666666,\"#ed7953\"],[0.7777777777777778,\"#fb9f3a\"],[0.8888888888888888,\"#fdca26\"],[1.0,\"#f0f921\"]],\"type\":\"heatmap\"}],\"heatmapgl\":[{\"colorbar\":{\"outlinewidth\":0,\"ticks\":\"\"},\"colorscale\":[[0.0,\"#0d0887\"],[0.1111111111111111,\"#46039f\"],[0.2222222222222222,\"#7201a8\"],[0.3333333333333333,\"#9c179e\"],[0.4444444444444444,\"#bd3786\"],[0.5555555555555556,\"#d8576b\"],[0.6666666666666666,\"#ed7953\"],[0.7777777777777778,\"#fb9f3a\"],[0.8888888888888888,\"#fdca26\"],[1.0,\"#f0f921\"]],\"type\":\"heatmapgl\"}],\"histogram\":[{\"marker\":{\"pattern\":{\"fillmode\":\"overlay\",\"size\":10,\"solidity\":0.2}},\"type\":\"histogram\"}],\"histogram2d\":[{\"colorbar\":{\"outlinewidth\":0,\"ticks\":\"\"},\"colorscale\":[[0.0,\"#0d0887\"],[0.1111111111111111,\"#46039f\"],[0.2222222222222222,\"#7201a8\"],[0.3333333333333333,\"#9c179e\"],[0.4444444444444444,\"#bd3786\"],[0.5555555555555556,\"#d8576b\"],[0.6666666666666666,\"#ed7953\"],[0.7777777777777778,\"#fb9f3a\"],[0.8888888888888888,\"#fdca26\"],[1.0,\"#f0f921\"]],\"type\":\"histogram2d\"}],\"histogram2dcontour\":[{\"colorbar\":{\"outlinewidth\":0,\"ticks\":\"\"},\"colorscale\":[[0.0,\"#0d0887\"],[0.1111111111111111,\"#46039f\"],[0.2222222222222222,\"#7201a8\"],[0.3333333333333333,\"#9c179e\"],[0.4444444444444444,\"#bd3786\"],[0.5555555555555556,\"#d8576b\"],[0.6666666666666666,\"#ed7953\"],[0.7777777777777778,\"#fb9f3a\"],[0.8888888888888888,\"#fdca26\"],[1.0,\"#f0f921\"]],\"type\":\"histogram2dcontour\"}],\"mesh3d\":[{\"colorbar\":{\"outlinewidth\":0,\"ticks\":\"\"},\"type\":\"mesh3d\"}],\"parcoords\":[{\"line\":{\"colorbar\":{\"outlinewidth\":0,\"ticks\":\"\"}},\"type\":\"parcoords\"}],\"pie\":[{\"automargin\":true,\"type\":\"pie\"}],\"scatter\":[{\"marker\":{\"colorbar\":{\"outlinewidth\":0,\"ticks\":\"\"}},\"type\":\"scatter\"}],\"scatter3d\":[{\"line\":{\"colorbar\":{\"outlinewidth\":0,\"ticks\":\"\"}},\"marker\":{\"colorbar\":{\"outlinewidth\":0,\"ticks\":\"\"}},\"type\":\"scatter3d\"}],\"scattercarpet\":[{\"marker\":{\"colorbar\":{\"outlinewidth\":0,\"ticks\":\"\"}},\"type\":\"scattercarpet\"}],\"scattergeo\":[{\"marker\":{\"colorbar\":{\"outlinewidth\":0,\"ticks\":\"\"}},\"type\":\"scattergeo\"}],\"scattergl\":[{\"marker\":{\"colorbar\":{\"outlinewidth\":0,\"ticks\":\"\"}},\"type\":\"scattergl\"}],\"scattermapbox\":[{\"marker\":{\"colorbar\":{\"outlinewidth\":0,\"ticks\":\"\"}},\"type\":\"scattermapbox\"}],\"scatterpolar\":[{\"marker\":{\"colorbar\":{\"outlinewidth\":0,\"ticks\":\"\"}},\"type\":\"scatterpolar\"}],\"scatterpolargl\":[{\"marker\":{\"colorbar\":{\"outlinewidth\":0,\"ticks\":\"\"}},\"type\":\"scatterpolargl\"}],\"scatterternary\":[{\"marker\":{\"colorbar\":{\"outlinewidth\":0,\"ticks\":\"\"}},\"type\":\"scatterternary\"}],\"surface\":[{\"colorbar\":{\"outlinewidth\":0,\"ticks\":\"\"},\"colorscale\":[[0.0,\"#0d0887\"],[0.1111111111111111,\"#46039f\"],[0.2222222222222222,\"#7201a8\"],[0.3333333333333333,\"#9c179e\"],[0.4444444444444444,\"#bd3786\"],[0.5555555555555556,\"#d8576b\"],[0.6666666666666666,\"#ed7953\"],[0.7777777777777778,\"#fb9f3a\"],[0.8888888888888888,\"#fdca26\"],[1.0,\"#f0f921\"]],\"type\":\"surface\"}],\"table\":[{\"cells\":{\"fill\":{\"color\":\"#EBF0F8\"},\"line\":{\"color\":\"white\"}},\"header\":{\"fill\":{\"color\":\"#C8D4E3\"},\"line\":{\"color\":\"white\"}},\"type\":\"table\"}]},\"layout\":{\"annotationdefaults\":{\"arrowcolor\":\"#2a3f5f\",\"arrowhead\":0,\"arrowwidth\":1},\"autotypenumbers\":\"strict\",\"coloraxis\":{\"colorbar\":{\"outlinewidth\":0,\"ticks\":\"\"}},\"colorscale\":{\"diverging\":[[0,\"#8e0152\"],[0.1,\"#c51b7d\"],[0.2,\"#de77ae\"],[0.3,\"#f1b6da\"],[0.4,\"#fde0ef\"],[0.5,\"#f7f7f7\"],[0.6,\"#e6f5d0\"],[0.7,\"#b8e186\"],[0.8,\"#7fbc41\"],[0.9,\"#4d9221\"],[1,\"#276419\"]],\"sequential\":[[0.0,\"#0d0887\"],[0.1111111111111111,\"#46039f\"],[0.2222222222222222,\"#7201a8\"],[0.3333333333333333,\"#9c179e\"],[0.4444444444444444,\"#bd3786\"],[0.5555555555555556,\"#d8576b\"],[0.6666666666666666,\"#ed7953\"],[0.7777777777777778,\"#fb9f3a\"],[0.8888888888888888,\"#fdca26\"],[1.0,\"#f0f921\"]],\"sequentialminus\":[[0.0,\"#0d0887\"],[0.1111111111111111,\"#46039f\"],[0.2222222222222222,\"#7201a8\"],[0.3333333333333333,\"#9c179e\"],[0.4444444444444444,\"#bd3786\"],[0.5555555555555556,\"#d8576b\"],[0.6666666666666666,\"#ed7953\"],[0.7777777777777778,\"#fb9f3a\"],[0.8888888888888888,\"#fdca26\"],[1.0,\"#f0f921\"]]},\"colorway\":[\"#636efa\",\"#EF553B\",\"#00cc96\",\"#ab63fa\",\"#FFA15A\",\"#19d3f3\",\"#FF6692\",\"#B6E880\",\"#FF97FF\",\"#FECB52\"],\"font\":{\"color\":\"#2a3f5f\"},\"geo\":{\"bgcolor\":\"white\",\"lakecolor\":\"white\",\"landcolor\":\"#E5ECF6\",\"showlakes\":true,\"showland\":true,\"subunitcolor\":\"white\"},\"hoverlabel\":{\"align\":\"left\"},\"hovermode\":\"closest\",\"mapbox\":{\"style\":\"light\"},\"paper_bgcolor\":\"white\",\"plot_bgcolor\":\"#E5ECF6\",\"polar\":{\"angularaxis\":{\"gridcolor\":\"white\",\"linecolor\":\"white\",\"ticks\":\"\"},\"bgcolor\":\"#E5ECF6\",\"radialaxis\":{\"gridcolor\":\"white\",\"linecolor\":\"white\",\"ticks\":\"\"}},\"scene\":{\"xaxis\":{\"backgroundcolor\":\"#E5ECF6\",\"gridcolor\":\"white\",\"gridwidth\":2,\"linecolor\":\"white\",\"showbackground\":true,\"ticks\":\"\",\"zerolinecolor\":\"white\"},\"yaxis\":{\"backgroundcolor\":\"#E5ECF6\",\"gridcolor\":\"white\",\"gridwidth\":2,\"linecolor\":\"white\",\"showbackground\":true,\"ticks\":\"\",\"zerolinecolor\":\"white\"},\"zaxis\":{\"backgroundcolor\":\"#E5ECF6\",\"gridcolor\":\"white\",\"gridwidth\":2,\"linecolor\":\"white\",\"showbackground\":true,\"ticks\":\"\",\"zerolinecolor\":\"white\"}},\"shapedefaults\":{\"line\":{\"color\":\"#2a3f5f\"}},\"ternary\":{\"aaxis\":{\"gridcolor\":\"white\",\"linecolor\":\"white\",\"ticks\":\"\"},\"baxis\":{\"gridcolor\":\"white\",\"linecolor\":\"white\",\"ticks\":\"\"},\"bgcolor\":\"#E5ECF6\",\"caxis\":{\"gridcolor\":\"white\",\"linecolor\":\"white\",\"ticks\":\"\"}},\"title\":{\"x\":0.05},\"xaxis\":{\"automargin\":true,\"gridcolor\":\"white\",\"linecolor\":\"white\",\"ticks\":\"\",\"title\":{\"standoff\":15},\"zerolinecolor\":\"white\",\"zerolinewidth\":2},\"yaxis\":{\"automargin\":true,\"gridcolor\":\"white\",\"linecolor\":\"white\",\"ticks\":\"\",\"title\":{\"standoff\":15},\"zerolinecolor\":\"white\",\"zerolinewidth\":2}}},\"scene\":{\"domain\":{\"x\":[0.0,1.0],\"y\":[0.0,1.0]},\"xaxis\":{\"title\":{\"text\":\"Grocery\"}},\"yaxis\":{\"title\":{\"text\":\"Milk\"}},\"zaxis\":{\"title\":{\"text\":\"Fresh\"}}},\"coloraxis\":{\"colorbar\":{\"title\":{\"text\":\"cluster\"}},\"colorscale\":[[0.0,\"#0d0887\"],[0.1111111111111111,\"#46039f\"],[0.2222222222222222,\"#7201a8\"],[0.3333333333333333,\"#9c179e\"],[0.4444444444444444,\"#bd3786\"],[0.5555555555555556,\"#d8576b\"],[0.6666666666666666,\"#ed7953\"],[0.7777777777777778,\"#fb9f3a\"],[0.8888888888888888,\"#fdca26\"],[1.0,\"#f0f921\"]]},\"legend\":{\"tracegroupgap\":0,\"itemsizing\":\"constant\"},\"margin\":{\"t\":60}},                        {\"responsive\": true}                    ).then(function(){\n",
              "                            \n",
              "var gd = document.getElementById('6a09a6a5-fc5d-4f1b-96af-6a614d4d2bf0');\n",
              "var x = new MutationObserver(function (mutations, observer) {{\n",
              "        var display = window.getComputedStyle(gd).display;\n",
              "        if (!display || display === 'none') {{\n",
              "            console.log([gd, 'removed!']);\n",
              "            Plotly.purge(gd);\n",
              "            observer.disconnect();\n",
              "        }}\n",
              "}});\n",
              "\n",
              "// Listen for the removal of the full notebook cells\n",
              "var notebookContainer = gd.closest('#notebook-container');\n",
              "if (notebookContainer) {{\n",
              "    x.observe(notebookContainer, {childList: true});\n",
              "}}\n",
              "\n",
              "// Listen for the clearing of the current output cell\n",
              "var outputEl = gd.closest('.output');\n",
              "if (outputEl) {{\n",
              "    x.observe(outputEl, {childList: true});\n",
              "}}\n",
              "\n",
              "                        })                };                            </script>        </div>\n",
              "</body>\n",
              "</html>"
            ]
          },
          "metadata": {}
        }
      ]
    }
  ]
}