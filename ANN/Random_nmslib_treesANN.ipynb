{
  "cells": [
    {
      "cell_type": "markdown",
      "metadata": {
        "id": "view-in-github",
        "colab_type": "text"
      },
      "source": [
        "<a href=\"https://colab.research.google.com/github/Ananya-AJ/CMPE255-Data-Mining/blob/main/ANN/Random_nmslib_treesANN.ipynb\" target=\"_parent\"><img src=\"https://colab.research.google.com/assets/colab-badge.svg\" alt=\"Open In Colab\"/></a>"
      ]
    },
    {
      "cell_type": "code",
      "execution_count": null,
      "metadata": {
        "id": "0wG411cQq3TX"
      },
      "outputs": [],
      "source": [
        "import pandas as pd\n",
        "from sklearn.preprocessing import StandardScaler, LabelEncoder\n",
        "import numpy as np\n",
        "import pickle"
      ]
    },
    {
      "cell_type": "markdown",
      "metadata": {
        "id": "iYI4q-BZq3Tb"
      },
      "source": [
        "## Packages solving ANN"
      ]
    },
    {
      "cell_type": "code",
      "execution_count": null,
      "metadata": {
        "id": "2v41T6Lzq3Tc"
      },
      "outputs": [],
      "source": [
        "import annoy\n",
        "import nmslib"
      ]
    },
    {
      "cell_type": "code",
      "execution_count": null,
      "metadata": {
        "id": "7RZJ1CbLq3Td"
      },
      "outputs": [],
      "source": [
        "df_raw = pd.read_csv('./tumor.csv')"
      ]
    },
    {
      "cell_type": "code",
      "execution_count": null,
      "metadata": {
        "id": "hwckrGi_q3Td"
      },
      "outputs": [],
      "source": [
        "feature_columns = list(df_raw.columns)[1:-1]\n",
        "\n",
        "x_variables = df_raw.loc[:, feature_columns]\n",
        "scaler = StandardScaler()\n",
        "scaled_x = scaler.fit_transform(x_variables)\n",
        "\n",
        "data_id = np.array(range(1, df_raw.shape[0]+1))\n",
        "\n",
        "y_labels = df_raw.iloc[:, -1]\n",
        "y_labels.unique()"
      ]
    },
    {
      "cell_type": "code",
      "execution_count": null,
      "metadata": {
        "id": "fqMlbF_4q3Te"
      },
      "outputs": [],
      "source": [
        "data = {\n",
        "    'vectors': scaled_x,\n",
        "    'id': data_id,\n",
        "    'cancer_label': y_labels,\n",
        "}\n",
        "with open('./cancer.pkl', 'wb') as file:\n",
        "    pickle.dump(data, file)"
      ]
    },
    {
      "cell_type": "code",
      "execution_count": null,
      "metadata": {
        "id": "zXbSIkn2q3Tf"
      },
      "outputs": [],
      "source": [
        "print('Vectors: ',data['vectors'][:10])\n",
        "print('Ids: ',data['id'][:10])\n",
        "print('Labels: ',data['cancer_label'][:10])"
      ]
    },
    {
      "cell_type": "markdown",
      "metadata": {
        "id": "WKB5hyOVq3Tg"
      },
      "source": [
        "Using ANNOY for a tree based approach to ANN"
      ]
    },
    {
      "cell_type": "code",
      "execution_count": null,
      "metadata": {
        "id": "M5S8hfr1q3Tg"
      },
      "outputs": [],
      "source": [
        "class AnnoyIndex():\n",
        "    def __init__(self, vectors, labels, metric='angular', n_trees=5):\n",
        "        self.dimension = vectors.shape[1]\n",
        "        self.vectors = vectors.astype('float32')\n",
        "        self.labels = labels\n",
        "        self.metric = metric # angular, euclidian, manhattan, hamming, dot\n",
        "        self.number_of_trees = n_trees\n",
        "\n",
        "    def build(self):\n",
        "        self.index = annoy.AnnoyIndex(self.dimension, metric=self.metric)\n",
        "        for i, vec in enumerate(self.vectors):\n",
        "            self.index.add_item(i, vec.tolist())\n",
        "        self.index.build(self.number_of_trees)\n",
        "        \n",
        "    def query(self, vector, k=10):\n",
        "        indices = self.index.get_nns_by_vector(vector.tolist(), k)\n",
        "        return [self.labels[i] for i in indices]"
      ]
    },
    {
      "cell_type": "code",
      "execution_count": null,
      "metadata": {
        "id": "LD8fWRXiq3Th"
      },
      "outputs": [],
      "source": [
        "# build binary tree for given vectors with 'angular' metric\n",
        "index = AnnoyIndex(data['vectors'], data['id'])\n",
        "index.build()"
      ]
    },
    {
      "cell_type": "code",
      "execution_count": null,
      "metadata": {
        "id": "gjvJDH4Lq3Ti"
      },
      "outputs": [],
      "source": [
        "cancer_vector, cancer_id = data['vectors'][100], data['id'][100]\n",
        "similar_cancer_cases = index.query(cancer_vector)\n",
        "print(f\"The most similar movies to {cancer_id} are:\\n {similar_cancer_cases}\")\n",
        "print(f\"The cancer labels of the similar ids are:\\n {[data['cancer_label'][i-1] for i in similar_cancer_cases]}\")"
      ]
    },
    {
      "cell_type": "markdown",
      "metadata": {
        "id": "3iTFWlxjq3Ti"
      },
      "source": [
        "Using NMSLib for HSNW approach to ANN"
      ]
    },
    {
      "cell_type": "code",
      "execution_count": null,
      "metadata": {
        "id": "s7MXP756q3Ti"
      },
      "outputs": [],
      "source": [
        "class NMSLIBIndex():\n",
        "    def __init__(self, vectors, labels):\n",
        "        self.dimention = vectors.shape[1]\n",
        "        self.vectors = vectors.astype('float32')\n",
        "        self.labels = labels\n",
        "        \n",
        "    def build(self):\n",
        "        self.index = nmslib.init(method='hnsw', space='cosinesimil')\n",
        "        self.index.addDataPointBatch(self.vectors)\n",
        "        self.index.createIndex({'post': 2})\n",
        "        \n",
        "    def query(self, vector, k=10):\n",
        "        indices = self.index.knnQuery(vector, k=k)\n",
        "        return [self.labels[i] for i in indices[0]]"
      ]
    },
    {
      "cell_type": "code",
      "execution_count": null,
      "metadata": {
        "id": "1FoQsMfmq3Tj"
      },
      "outputs": [],
      "source": [
        "index = NMSLIBIndex(data['vectors'], data['id'])\n",
        "index.build()"
      ]
    },
    {
      "cell_type": "code",
      "execution_count": null,
      "metadata": {
        "id": "63hAzJkWq3Tj"
      },
      "outputs": [],
      "source": [
        "cancer_vector, cancer_id = data['vectors'][100], data['id'][100]\n",
        "similar_cancer_cases = index.query(cancer_vector)\n",
        "print(f\"The most similar movies to {cancer_id} are:\\n {similar_cancer_cases}\")\n",
        "print(f\"The cancer labels of the similar ids are:\\n {[data['cancer_label'][i-1] for i in similar_cancer_cases]}\")"
      ]
    },
    {
      "cell_type": "markdown",
      "metadata": {
        "id": "Q64-bVQJq3Tj"
      },
      "source": [
        "## Random Projections from scratch"
      ]
    },
    {
      "cell_type": "code",
      "execution_count": null,
      "metadata": {
        "id": "HmclR1NWq3Tj"
      },
      "outputs": [],
      "source": [
        "df_laptop = pd.read_csv('./laptop_price.csv')"
      ]
    },
    {
      "cell_type": "code",
      "execution_count": null,
      "metadata": {
        "id": "ZKECOhCbq3Tk",
        "outputId": "9760bddd-0cd9-4b88-9f3b-7776caf71032"
      },
      "outputs": [
        {
          "data": {
            "text/plain": [
              "(1303, 13)"
            ]
          },
          "execution_count": 4,
          "metadata": {},
          "output_type": "execute_result"
        }
      ],
      "source": [
        "df_laptop.shape"
      ]
    },
    {
      "cell_type": "code",
      "execution_count": null,
      "metadata": {
        "id": "lmgir-GNq3Tk",
        "outputId": "bde6f45b-87ff-4764-ff47-4210583f990d"
      },
      "outputs": [
        {
          "data": {
            "text/html": [
              "<div>\n",
              "<style scoped>\n",
              "    .dataframe tbody tr th:only-of-type {\n",
              "        vertical-align: middle;\n",
              "    }\n",
              "\n",
              "    .dataframe tbody tr th {\n",
              "        vertical-align: top;\n",
              "    }\n",
              "\n",
              "    .dataframe thead th {\n",
              "        text-align: right;\n",
              "    }\n",
              "</style>\n",
              "<table border=\"1\" class=\"dataframe\">\n",
              "  <thead>\n",
              "    <tr style=\"text-align: right;\">\n",
              "      <th></th>\n",
              "      <th>laptop_ID</th>\n",
              "      <th>Company</th>\n",
              "      <th>Product</th>\n",
              "      <th>TypeName</th>\n",
              "      <th>Inches</th>\n",
              "      <th>ScreenResolution</th>\n",
              "      <th>Cpu</th>\n",
              "      <th>Ram</th>\n",
              "      <th>Memory</th>\n",
              "      <th>Gpu</th>\n",
              "      <th>OpSys</th>\n",
              "      <th>Weight</th>\n",
              "      <th>Price_euros</th>\n",
              "    </tr>\n",
              "  </thead>\n",
              "  <tbody>\n",
              "    <tr>\n",
              "      <th>0</th>\n",
              "      <td>1</td>\n",
              "      <td>Apple</td>\n",
              "      <td>MacBook Pro</td>\n",
              "      <td>Ultrabook</td>\n",
              "      <td>13.3</td>\n",
              "      <td>IPS Panel Retina Display 2560x1600</td>\n",
              "      <td>Intel Core i5 2.3GHz</td>\n",
              "      <td>8GB</td>\n",
              "      <td>128GB SSD</td>\n",
              "      <td>Intel Iris Plus Graphics 640</td>\n",
              "      <td>macOS</td>\n",
              "      <td>1.37kg</td>\n",
              "      <td>1339.69</td>\n",
              "    </tr>\n",
              "    <tr>\n",
              "      <th>1</th>\n",
              "      <td>2</td>\n",
              "      <td>Apple</td>\n",
              "      <td>Macbook Air</td>\n",
              "      <td>Ultrabook</td>\n",
              "      <td>13.3</td>\n",
              "      <td>1440x900</td>\n",
              "      <td>Intel Core i5 1.8GHz</td>\n",
              "      <td>8GB</td>\n",
              "      <td>128GB Flash Storage</td>\n",
              "      <td>Intel HD Graphics 6000</td>\n",
              "      <td>macOS</td>\n",
              "      <td>1.34kg</td>\n",
              "      <td>898.94</td>\n",
              "    </tr>\n",
              "    <tr>\n",
              "      <th>2</th>\n",
              "      <td>3</td>\n",
              "      <td>HP</td>\n",
              "      <td>250 G6</td>\n",
              "      <td>Notebook</td>\n",
              "      <td>15.6</td>\n",
              "      <td>Full HD 1920x1080</td>\n",
              "      <td>Intel Core i5 7200U 2.5GHz</td>\n",
              "      <td>8GB</td>\n",
              "      <td>256GB SSD</td>\n",
              "      <td>Intel HD Graphics 620</td>\n",
              "      <td>No OS</td>\n",
              "      <td>1.86kg</td>\n",
              "      <td>575.00</td>\n",
              "    </tr>\n",
              "    <tr>\n",
              "      <th>3</th>\n",
              "      <td>4</td>\n",
              "      <td>Apple</td>\n",
              "      <td>MacBook Pro</td>\n",
              "      <td>Ultrabook</td>\n",
              "      <td>15.4</td>\n",
              "      <td>IPS Panel Retina Display 2880x1800</td>\n",
              "      <td>Intel Core i7 2.7GHz</td>\n",
              "      <td>16GB</td>\n",
              "      <td>512GB SSD</td>\n",
              "      <td>AMD Radeon Pro 455</td>\n",
              "      <td>macOS</td>\n",
              "      <td>1.83kg</td>\n",
              "      <td>2537.45</td>\n",
              "    </tr>\n",
              "    <tr>\n",
              "      <th>4</th>\n",
              "      <td>5</td>\n",
              "      <td>Apple</td>\n",
              "      <td>MacBook Pro</td>\n",
              "      <td>Ultrabook</td>\n",
              "      <td>13.3</td>\n",
              "      <td>IPS Panel Retina Display 2560x1600</td>\n",
              "      <td>Intel Core i5 3.1GHz</td>\n",
              "      <td>8GB</td>\n",
              "      <td>256GB SSD</td>\n",
              "      <td>Intel Iris Plus Graphics 650</td>\n",
              "      <td>macOS</td>\n",
              "      <td>1.37kg</td>\n",
              "      <td>1803.60</td>\n",
              "    </tr>\n",
              "  </tbody>\n",
              "</table>\n",
              "</div>"
            ],
            "text/plain": [
              "   laptop_ID Company      Product   TypeName  Inches  \\\n",
              "0          1   Apple  MacBook Pro  Ultrabook    13.3   \n",
              "1          2   Apple  Macbook Air  Ultrabook    13.3   \n",
              "2          3      HP       250 G6   Notebook    15.6   \n",
              "3          4   Apple  MacBook Pro  Ultrabook    15.4   \n",
              "4          5   Apple  MacBook Pro  Ultrabook    13.3   \n",
              "\n",
              "                     ScreenResolution                         Cpu   Ram  \\\n",
              "0  IPS Panel Retina Display 2560x1600        Intel Core i5 2.3GHz   8GB   \n",
              "1                            1440x900        Intel Core i5 1.8GHz   8GB   \n",
              "2                   Full HD 1920x1080  Intel Core i5 7200U 2.5GHz   8GB   \n",
              "3  IPS Panel Retina Display 2880x1800        Intel Core i7 2.7GHz  16GB   \n",
              "4  IPS Panel Retina Display 2560x1600        Intel Core i5 3.1GHz   8GB   \n",
              "\n",
              "                Memory                           Gpu  OpSys  Weight  \\\n",
              "0            128GB SSD  Intel Iris Plus Graphics 640  macOS  1.37kg   \n",
              "1  128GB Flash Storage        Intel HD Graphics 6000  macOS  1.34kg   \n",
              "2            256GB SSD         Intel HD Graphics 620  No OS  1.86kg   \n",
              "3            512GB SSD            AMD Radeon Pro 455  macOS  1.83kg   \n",
              "4            256GB SSD  Intel Iris Plus Graphics 650  macOS  1.37kg   \n",
              "\n",
              "   Price_euros  \n",
              "0      1339.69  \n",
              "1       898.94  \n",
              "2       575.00  \n",
              "3      2537.45  \n",
              "4      1803.60  "
            ]
          },
          "execution_count": 5,
          "metadata": {},
          "output_type": "execute_result"
        }
      ],
      "source": [
        "df_laptop.head()"
      ]
    },
    {
      "cell_type": "markdown",
      "metadata": {
        "id": "kZFSHUcYq3Tl"
      },
      "source": [
        "Encode and make data vectors"
      ]
    },
    {
      "cell_type": "code",
      "execution_count": null,
      "metadata": {
        "id": "wsRAXRvWq3Tl"
      },
      "outputs": [],
      "source": [
        "df_laptop['Weight_num'] = pd.to_numeric(df_laptop['Weight'].str.replace('kg', ''), downcast='float')\n",
        "\n",
        "label_columns = ['Company', 'Product', 'TypeName', 'ScreenResolution', 'Cpu', 'Ram','Memory', 'Gpu', 'OpSys']\n",
        "encoder = LabelEncoder()\n",
        "df_new = df_laptop.loc[:, label_columns].apply(encoder.fit_transform)\n",
        "\n",
        "df_encoded = pd.concat([df_new, df_laptop[['Inches', 'Price_euros', 'Weight_num']]], axis=1)\n",
        "\n",
        "scaler = StandardScaler()\n",
        "laptop_vectors = scaler.fit_transform(df_encoded)"
      ]
    },
    {
      "cell_type": "markdown",
      "metadata": {
        "id": "jiGg1wztq3Tl"
      },
      "source": [
        "Take out some datapoints for testing"
      ]
    },
    {
      "cell_type": "code",
      "execution_count": null,
      "metadata": {
        "id": "7aUZjTekq3Tl",
        "outputId": "8d0de5e8-ea13-4a5c-f5bc-58ba9cf8451b"
      },
      "outputs": [
        {
          "name": "stdout",
          "output_type": "stream",
          "text": [
            "[[ 0.13647704 -1.67154058  0.33540639 -0.15530253  0.794896    0.8651681\n",
            "  -0.04314153 -2.20599126  0.184661    0.40877166 -0.57916614 -0.19352076]\n",
            " [ 0.13647704 -1.62498073  0.33540639 -0.15530253 -2.18356387 -0.27583801\n",
            "   1.20604542 -1.9746693   0.184661    0.40877166 -1.10869014  0.09209928]]\n",
            "1293\n"
          ]
        }
      ],
      "source": [
        "test_vectors = laptop_vectors[100: 110]\n",
        "train_vectors = np.concatenate((laptop_vectors[:100],laptop_vectors[110:]))\n",
        "\n",
        "test_laptops = df_laptop.loc[100: 110,'laptop_ID'].values\n",
        "train_laptops = pd.concat([df_laptop.loc[:100], df_laptop.loc[110:]])['laptop_ID'].values\n",
        "\n",
        "print(test_vectors[:2])\n",
        "print(len(train_vectors))"
      ]
    },
    {
      "cell_type": "markdown",
      "metadata": {
        "id": "yRr5gD_Qq3Tm"
      },
      "source": [
        "Functions for makng normal planes, index buckets and testing"
      ]
    },
    {
      "cell_type": "code",
      "execution_count": null,
      "metadata": {
        "id": "LgJI4tIhq3Tm"
      },
      "outputs": [],
      "source": [
        "def make_normal_planes(nbits, d):\n",
        "   normal_planes = np.random.rand(nbits, d) - 0.5 \n",
        "\n",
        "   return normal_planes"
      ]
    },
    {
      "cell_type": "code",
      "execution_count": null,
      "metadata": {
        "id": "APSGvy09q3Tm"
      },
      "outputs": [],
      "source": [
        "def make_buckets(normal_planes, input_vectors, input_labels):\n",
        "   dot_vectors = [np.dot(vector, normal_planes.T) for vector in input_vectors] \n",
        "   hashed_vectors = [(vector > 0).astype(int) for vector in dot_vectors]\n",
        "\n",
        "   buckets={}\n",
        " \n",
        "   for i in range(len(hashed_vectors)):\n",
        "      hash_string = ''.join(hashed_vectors[i].astype(str))\n",
        "      buckets.setdefault(hash_string, []).append(input_labels[i])\n",
        "\n",
        "   return buckets"
      ]
    },
    {
      "cell_type": "code",
      "execution_count": null,
      "metadata": {
        "id": "pvJBkm_-q3Tm"
      },
      "outputs": [],
      "source": [
        "def find_closest_laptops(normal_planes, buckets, test_vector):\n",
        "    dot_vector = np.dot(test_vector, normal_planes.T)\n",
        "    hashed_vector = (dot_vector > 0).astype(int)\n",
        "\n",
        "    bucket_keys = list(buckets.keys())\n",
        "    distances = {}\n",
        "    closest_laptops = []\n",
        "    closest_distance = 0\n",
        "\n",
        "    for i in range(len(hashed_vector)+1):\n",
        "        distances[i] = []\n",
        "\n",
        "    for vec_str in bucket_keys:\n",
        "        index_vector = np.array([int(bit) for bit in list(vec_str)])\n",
        "        distance = np.count_nonzero(hashed_vector!=index_vector)\n",
        "        laptops_in_bucket = [i for i in buckets[vec_str]]\n",
        "        distances[distance].append(laptops_in_bucket)\n",
        "        \n",
        "    for i in range(len(hashed_vector)+1):\n",
        "        if(len(distances[i]) > 0):\n",
        "            closest_laptops = distances[i]\n",
        "            closest_distance = i\n",
        "            break\n",
        "    \n",
        "    return closest_laptops, closest_distance"
      ]
    },
    {
      "cell_type": "markdown",
      "metadata": {
        "id": "eOZ7qxWCq3Tm"
      },
      "source": [
        "Make index buckets and test with test data points"
      ]
    },
    {
      "cell_type": "code",
      "execution_count": null,
      "metadata": {
        "id": "4jVXhAyyq3Tm",
        "outputId": "dc204691-a2c4-4f49-d544-0921e30dfb6c"
      },
      "outputs": [
        {
          "data": {
            "text/plain": [
              "154"
            ]
          },
          "execution_count": 48,
          "metadata": {},
          "output_type": "execute_result"
        }
      ],
      "source": [
        "normal_planes = make_normal_planes(nbits=8, d=12)\n",
        "laptop_vector_buckets = make_buckets(normal_planes=normal_planes, input_vectors=train_vectors, input_labels=train_laptops)\n",
        "len(laptop_vector_buckets)"
      ]
    },
    {
      "cell_type": "code",
      "execution_count": null,
      "metadata": {
        "id": "llUAXoa6q3Tn",
        "outputId": "feebd848-4619-4ae1-aefe-17259bb3e643"
      },
      "outputs": [
        {
          "name": "stdout",
          "output_type": "stream",
          "text": [
            "The closest laptops to 106 are: \n",
            " [[119, 197, 221, 254, 308, 320, 387, 431, 450, 464, 522, 598, 677, 744, 781, 798, 913, 935, 946, 1013, 1071, 1170, 1179, 1202, 1221]]\n",
            "0\n"
          ]
        }
      ],
      "source": [
        "test_index = 3\n",
        "\n",
        "closest_laptops, closest_distance = find_closest_laptops(normal_planes=normal_planes, buckets=laptop_vector_buckets, test_vector=test_vectors[test_index])\n",
        "\n",
        "print(f'The closest laptops to {test_laptops[test_index]} are: \\n {closest_laptops}')\n",
        "print(closest_distance)"
      ]
    }
  ],
  "metadata": {
    "kernelspec": {
      "display_name": "Python 3.10.6 ('ds')",
      "language": "python",
      "name": "python3"
    },
    "language_info": {
      "codemirror_mode": {
        "name": "ipython",
        "version": 3
      },
      "file_extension": ".py",
      "mimetype": "text/x-python",
      "name": "python",
      "nbconvert_exporter": "python",
      "pygments_lexer": "ipython3",
      "version": "3.10.6"
    },
    "orig_nbformat": 4,
    "vscode": {
      "interpreter": {
        "hash": "7f9afca31083f2c8560cae21b50c4c7d1f45f3a19df40c364096a53d33977427"
      }
    },
    "colab": {
      "provenance": [],
      "include_colab_link": true
    }
  },
  "nbformat": 4,
  "nbformat_minor": 0
}