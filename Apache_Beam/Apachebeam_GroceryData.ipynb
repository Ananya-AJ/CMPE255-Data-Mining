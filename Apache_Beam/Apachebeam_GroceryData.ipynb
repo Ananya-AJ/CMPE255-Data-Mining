{
  "nbformat": 4,
  "nbformat_minor": 0,
  "metadata": {
    "colab": {
      "provenance": [],
      "collapsed_sections": [],
      "authorship_tag": "ABX9TyOmchM4l8A1TW75oeJ34cJ/",
      "include_colab_link": true
    },
    "kernelspec": {
      "name": "python3",
      "display_name": "Python 3"
    },
    "language_info": {
      "name": "python"
    }
  },
  "cells": [
    {
      "cell_type": "markdown",
      "metadata": {
        "id": "view-in-github",
        "colab_type": "text"
      },
      "source": [
        "<a href=\"https://colab.research.google.com/github/Ananya-AJ/CMPE255-Data-Mining/blob/main/Apache_Beam/Apachebeam_GroceryData.ipynb\" target=\"_parent\"><img src=\"https://colab.research.google.com/assets/colab-badge.svg\" alt=\"Open In Colab\"/></a>"
      ]
    },
    {
      "cell_type": "markdown",
      "source": [
        "#A data pipeline using APACHE BEAM, Use the table of contents to navigate to a particular cell\n"
      ],
      "metadata": {
        "id": "rbWpOfgadaag"
      }
    },
    {
      "cell_type": "markdown",
      "source": [
        "##Install Apache beam and restart runtime"
      ],
      "metadata": {
        "id": "8D_EvYwodlOA"
      }
    },
    {
      "cell_type": "code",
      "source": [
        "! pip install apache-beam[interactive]\n"
      ],
      "metadata": {
        "id": "37q5IbgYdofR"
      },
      "execution_count": null,
      "outputs": []
    },
    {
      "cell_type": "code",
      "source": [
        "!pip install apache_beam[dataframe]"
      ],
      "metadata": {
        "id": "gaWtaNzu24bt"
      },
      "execution_count": null,
      "outputs": []
    },
    {
      "cell_type": "code",
      "source": [
        "import apache_beam as beam\n",
        "import pandas as pd\n",
        "from apache_beam.dataframe.io import read_csv"
      ],
      "metadata": {
        "id": "Ricf3sqXdqxY"
      },
      "execution_count": null,
      "outputs": []
    },
    {
      "cell_type": "markdown",
      "source": [
        "##get a text file from git"
      ],
      "metadata": {
        "id": "30Idv_wPuiVo"
      }
    },
    {
      "cell_type": "code",
      "source": [
        "import requests\n",
        "\n",
        "#master = \"https://raw.githubusercontent.com/vigneshSs-07/Cloud-AI-Analytics/main/Apache Beam -Python/data/grocery.txt\"\n",
        "#master = \"https://raw.githubusercontent.com/vigneshSs-07/Cloud-AI-Analytics/main/Apache%20Beam%20-Python/data/dept_data.txt\"\n",
        "req = requests.get(master)\n",
        "req = req.text\n",
        "with open('/content/dept.txt','w') as fp:\n",
        "  fp.write(req)\n"
      ],
      "metadata": {
        "id": "1sz_xrq7ul8g"
      },
      "execution_count": null,
      "outputs": []
    },
    {
      "cell_type": "markdown",
      "source": [
        "##Transform definitions"
      ],
      "metadata": {
        "id": "tgziEno47tJR"
      }
    },
    {
      "cell_type": "code",
      "source": [
        "import apache_beam as beam\n",
        "\n",
        "def SplitRow(element):\n",
        "  return element.split(',')\n",
        "  \n",
        "def format_output(element):\n",
        "  name, count = element\n",
        "  return (name.encode('ascii'),str(count),'Avg priced')\n"
      ],
      "metadata": {
        "id": "IrLB1A6J7xcN"
      },
      "execution_count": null,
      "outputs": []
    },
    {
      "cell_type": "markdown",
      "source": [
        "##Instantiate the pipeline"
      ],
      "metadata": {
        "id": "ZAVhe6HwQNpo"
      }
    },
    {
      "cell_type": "code",
      "source": [
        "pipe = beam.Pipeline()"
      ],
      "metadata": {
        "id": "WqCwgCsSQSRX"
      },
      "execution_count": null,
      "outputs": []
    },
    {
      "cell_type": "markdown",
      "source": [
        "##Build a custom transform class"
      ],
      "metadata": {
        "id": "W2CNOUoTxGCA"
      }
    },
    {
      "cell_type": "code",
      "source": [
        "class CusTransform(beam.PTransform):\n",
        "  \n",
        "  def expand(self, input_coll):\n",
        "    \n",
        "    final_op = ( \n",
        "        input_coll\n",
        "         \n",
        "                      |'to get the average of the elements for each unique key'>>beam.combiners.Mean.PerKey()\n",
        "                      |'fixed-size random samples for each unique key in a PCollection'>>beam.combiners.Sample.FixedSizePerKey(3 or 0)\n",
        "                      | 'Items and their location' >> beam.Map(format_output)\n",
        "              \n",
        "    )\n",
        "    return final_op"
      ],
      "metadata": {
        "id": "LtFGKK_S6S0o"
      },
      "execution_count": null,
      "outputs": []
    },
    {
      "cell_type": "markdown",
      "source": [
        "##Pass the input data, Get rows that have item_type as dairy and baking goods and then call CusTransform for both the datasets, These filtered rows based on item_type is passed as pcollection to the custome transformation that runs all the composite transformations."
      ],
      "metadata": {
        "id": "k8hxlK0vNnbj"
      }
    },
    {
      "cell_type": "code",
      "source": [
        "with beam.Pipeline() as p:\n",
        "  input_data = (p \n",
        "                      | \"Read from text file\" >> beam.io.ReadFromText('/content/grocery.txt')\n",
        "                      | \"Split rows\" >> beam.Map(SplitRow)\n",
        "                   )\n",
        "  \n",
        "  Dairy_count = (\n",
        "                      input_data\n",
        "                      | 'Get all dairy item types' >> beam.Filter(lambda record: record[4] == 'Dairy')\n",
        "                      | 'Pair each dairy item types with 1' >> beam.Map(lambda record: (record[1], 1))\n",
        "                      | 'composite Dairy' >> CusTransform()\n",
        "                      | 'Write results for Dairy' >> beam.io.WriteToText('/content/Dairy')\n",
        "                 )\n",
        "\n",
        "  Bakinggoods_count = (\n",
        "                  input_data\n",
        "                  | 'Get all baking goods item types' >> beam.Filter(lambda record: record[4] == 'Baking Goods')\n",
        "                  | 'Pair each baking goods item type with 1' >> beam.Map(lambda record: (record[1], 1))\n",
        "                  | 'composite Bakinggoods' >> CusTransform()\n",
        "                  | 'Write results for Bakinggoods' >> beam.io.WriteToText('/content/Bakinggoods')\n",
        "            )"
      ],
      "metadata": {
        "id": "pgMKkIr96Ty5"
      },
      "execution_count": null,
      "outputs": []
    },
    {
      "cell_type": "code",
      "source": [
        "!{('head  /content/Bakinggoods-00000-of-00001')}"
      ],
      "metadata": {
        "colab": {
          "base_uri": "https://localhost:8080/"
        },
        "id": "9FYCzz-BzrAd",
        "outputId": "ef83e033-3ffe-4901-c49f-04293d8e00dc"
      },
      "execution_count": null,
      "outputs": [
        {
          "output_type": "stream",
          "name": "stdout",
          "text": [
            "(b'10.395', '[1.0]', 'Avg priced')\n",
            "(b'', '[1.0]', 'Avg priced')\n",
            "(b'15.85', '[1.0]', 'Avg priced')\n"
          ]
        }
      ]
    },
    {
      "cell_type": "code",
      "source": [
        "!{('head  /content/Dairy-00000-of-00001')}"
      ],
      "metadata": {
        "colab": {
          "base_uri": "https://localhost:8080/"
        },
        "id": "YxO4ddSDPF4b",
        "outputId": "9cd5a2ae-a136-4497-d2ce-98e811e18246"
      },
      "execution_count": null,
      "outputs": [
        {
          "output_type": "stream",
          "name": "stdout",
          "text": [
            "(b'9.3', '[1.0]', 'Avg priced')\n",
            "(b'18.5', '[1.0]', 'Avg priced')\n",
            "(b'13.35', '[1.0]', 'Avg priced')\n",
            "(b'5.925', '[1.0]', 'Avg priced')\n",
            "(b'19.25', '[1.0]', 'Avg priced')\n",
            "(b'6.42', '[1.0]', 'Avg priced')\n"
          ]
        }
      ]
    }
  ]
}